{
 "cells": [
  {
   "cell_type": "code",
   "execution_count": 1,
   "id": "51918dbc",
   "metadata": {},
   "outputs": [],
   "source": [
    "import pandas as pd\n",
    "import numpy as np\n",
    "from scipy.stats import mode"
   ]
  },
  {
   "cell_type": "code",
   "execution_count": 2,
   "id": "6b376b70",
   "metadata": {
    "scrolled": true
   },
   "outputs": [
    {
     "name": "stderr",
     "output_type": "stream",
     "text": [
      "C:\\Users\\DELL\\anaconda3\\lib\\site-packages\\IPython\\core\\interactiveshell.py:3165: DtypeWarning: Columns (10,12) have mixed types.Specify dtype option on import or set low_memory=False.\n",
      "  has_raised = await self.run_ast_nodes(code_ast.body, cell_name,\n"
     ]
    }
   ],
   "source": [
    "data_sales = pd.read_csv('sales.csv',parse_dates=['date'])"
   ]
  },
  {
   "cell_type": "code",
   "execution_count": 3,
   "id": "626faf61",
   "metadata": {},
   "outputs": [],
   "source": [
    "data_product_hierarchy = pd.read_csv('product_hierarchy.csv')"
   ]
  },
  {
   "cell_type": "code",
   "execution_count": 4,
   "id": "a1ce7042",
   "metadata": {},
   "outputs": [],
   "source": [
    "data_store_cities = pd.read_csv('store_cities.csv')"
   ]
  },
  {
   "cell_type": "code",
   "execution_count": 5,
   "id": "a143afe9",
   "metadata": {},
   "outputs": [
    {
     "data": {
      "text/html": [
       "<div>\n",
       "<style scoped>\n",
       "    .dataframe tbody tr th:only-of-type {\n",
       "        vertical-align: middle;\n",
       "    }\n",
       "\n",
       "    .dataframe tbody tr th {\n",
       "        vertical-align: top;\n",
       "    }\n",
       "\n",
       "    .dataframe thead th {\n",
       "        text-align: right;\n",
       "    }\n",
       "</style>\n",
       "<table border=\"1\" class=\"dataframe\">\n",
       "  <thead>\n",
       "    <tr style=\"text-align: right;\">\n",
       "      <th></th>\n",
       "      <th>product_id</th>\n",
       "      <th>store_id</th>\n",
       "      <th>date</th>\n",
       "      <th>sales</th>\n",
       "      <th>revenue</th>\n",
       "      <th>stock</th>\n",
       "      <th>price</th>\n",
       "      <th>promo_type_1</th>\n",
       "      <th>promo_bin_1</th>\n",
       "      <th>promo_type_2</th>\n",
       "      <th>promo_bin_2</th>\n",
       "      <th>promo_discount_2</th>\n",
       "      <th>promo_discount_type_2</th>\n",
       "    </tr>\n",
       "  </thead>\n",
       "  <tbody>\n",
       "    <tr>\n",
       "      <th>0</th>\n",
       "      <td>P0001</td>\n",
       "      <td>S0002</td>\n",
       "      <td>2017-01-02</td>\n",
       "      <td>0.0</td>\n",
       "      <td>0.00</td>\n",
       "      <td>8.0</td>\n",
       "      <td>6.25</td>\n",
       "      <td>PR14</td>\n",
       "      <td>NaN</td>\n",
       "      <td>PR03</td>\n",
       "      <td>NaN</td>\n",
       "      <td>NaN</td>\n",
       "      <td>NaN</td>\n",
       "    </tr>\n",
       "    <tr>\n",
       "      <th>1</th>\n",
       "      <td>P0001</td>\n",
       "      <td>S0012</td>\n",
       "      <td>2017-01-02</td>\n",
       "      <td>1.0</td>\n",
       "      <td>5.30</td>\n",
       "      <td>0.0</td>\n",
       "      <td>6.25</td>\n",
       "      <td>PR14</td>\n",
       "      <td>NaN</td>\n",
       "      <td>PR03</td>\n",
       "      <td>NaN</td>\n",
       "      <td>NaN</td>\n",
       "      <td>NaN</td>\n",
       "    </tr>\n",
       "    <tr>\n",
       "      <th>2</th>\n",
       "      <td>P0001</td>\n",
       "      <td>S0013</td>\n",
       "      <td>2017-01-02</td>\n",
       "      <td>2.0</td>\n",
       "      <td>10.59</td>\n",
       "      <td>0.0</td>\n",
       "      <td>6.25</td>\n",
       "      <td>PR14</td>\n",
       "      <td>NaN</td>\n",
       "      <td>PR03</td>\n",
       "      <td>NaN</td>\n",
       "      <td>NaN</td>\n",
       "      <td>NaN</td>\n",
       "    </tr>\n",
       "    <tr>\n",
       "      <th>3</th>\n",
       "      <td>P0001</td>\n",
       "      <td>S0023</td>\n",
       "      <td>2017-01-02</td>\n",
       "      <td>0.0</td>\n",
       "      <td>0.00</td>\n",
       "      <td>6.0</td>\n",
       "      <td>6.25</td>\n",
       "      <td>PR14</td>\n",
       "      <td>NaN</td>\n",
       "      <td>PR03</td>\n",
       "      <td>NaN</td>\n",
       "      <td>NaN</td>\n",
       "      <td>NaN</td>\n",
       "    </tr>\n",
       "    <tr>\n",
       "      <th>4</th>\n",
       "      <td>P0001</td>\n",
       "      <td>S0025</td>\n",
       "      <td>2017-01-02</td>\n",
       "      <td>0.0</td>\n",
       "      <td>0.00</td>\n",
       "      <td>1.0</td>\n",
       "      <td>6.25</td>\n",
       "      <td>PR14</td>\n",
       "      <td>NaN</td>\n",
       "      <td>PR03</td>\n",
       "      <td>NaN</td>\n",
       "      <td>NaN</td>\n",
       "      <td>NaN</td>\n",
       "    </tr>\n",
       "  </tbody>\n",
       "</table>\n",
       "</div>"
      ],
      "text/plain": [
       "  product_id store_id       date  sales  revenue  stock  price promo_type_1  \\\n",
       "0      P0001    S0002 2017-01-02    0.0     0.00    8.0   6.25         PR14   \n",
       "1      P0001    S0012 2017-01-02    1.0     5.30    0.0   6.25         PR14   \n",
       "2      P0001    S0013 2017-01-02    2.0    10.59    0.0   6.25         PR14   \n",
       "3      P0001    S0023 2017-01-02    0.0     0.00    6.0   6.25         PR14   \n",
       "4      P0001    S0025 2017-01-02    0.0     0.00    1.0   6.25         PR14   \n",
       "\n",
       "  promo_bin_1 promo_type_2 promo_bin_2  promo_discount_2 promo_discount_type_2  \n",
       "0         NaN         PR03         NaN               NaN                   NaN  \n",
       "1         NaN         PR03         NaN               NaN                   NaN  \n",
       "2         NaN         PR03         NaN               NaN                   NaN  \n",
       "3         NaN         PR03         NaN               NaN                   NaN  \n",
       "4         NaN         PR03         NaN               NaN                   NaN  "
      ]
     },
     "execution_count": 5,
     "metadata": {},
     "output_type": "execute_result"
    }
   ],
   "source": [
    "data_sales.head(5)"
   ]
  },
  {
   "cell_type": "code",
   "execution_count": 6,
   "id": "a4df79f7",
   "metadata": {
    "scrolled": false
   },
   "outputs": [
    {
     "data": {
      "text/plain": [
       "product_id                      0\n",
       "store_id                        0\n",
       "date                            0\n",
       "sales                     1190762\n",
       "revenue                   1190762\n",
       "stock                     1190762\n",
       "price                      571981\n",
       "promo_type_1                    0\n",
       "promo_bin_1              16803149\n",
       "promo_type_2                    0\n",
       "promo_bin_2              19395757\n",
       "promo_discount_2         19395757\n",
       "promo_discount_type_2    19395757\n",
       "dtype: int64"
      ]
     },
     "execution_count": 6,
     "metadata": {},
     "output_type": "execute_result"
    }
   ],
   "source": [
    "data_sales.isnull().sum()"
   ]
  },
  {
   "cell_type": "code",
   "execution_count": 7,
   "id": "a579d058",
   "metadata": {
    "scrolled": true
   },
   "outputs": [
    {
     "data": {
      "text/plain": [
       "product_id         0\n",
       "product_length    18\n",
       "product_depth     16\n",
       "product_width     16\n",
       "cluster_id        50\n",
       "hierarchy1_id      0\n",
       "hierarchy2_id      0\n",
       "hierarchy3_id      0\n",
       "hierarchy4_id      0\n",
       "hierarchy5_id      0\n",
       "dtype: int64"
      ]
     },
     "execution_count": 7,
     "metadata": {},
     "output_type": "execute_result"
    }
   ],
   "source": [
    "data_product_hierarchy.isnull().sum()"
   ]
  },
  {
   "cell_type": "code",
   "execution_count": 8,
   "id": "2bc263b9",
   "metadata": {},
   "outputs": [
    {
     "data": {
      "text/plain": [
       "store_id        0\n",
       "storetype_id    0\n",
       "store_size      0\n",
       "city_id         0\n",
       "dtype: int64"
      ]
     },
     "execution_count": 8,
     "metadata": {},
     "output_type": "execute_result"
    }
   ],
   "source": [
    "data_store_cities.isnull().sum()"
   ]
  },
  {
   "cell_type": "markdown",
   "id": "bf27a525",
   "metadata": {},
   "source": [
    "## Filling Nas for product hierarchy"
   ]
  },
  {
   "cell_type": "code",
   "execution_count": 9,
   "id": "79edf089",
   "metadata": {},
   "outputs": [],
   "source": [
    "data_product_hierarchy['product_length'].fillna(data_product_hierarchy['product_length'].mean(),inplace = True)\n",
    "data_product_hierarchy['product_depth'].fillna(data_product_hierarchy['product_depth'].mean(),inplace = True)\n",
    "data_product_hierarchy['product_width'].fillna(data_product_hierarchy['product_width'].mean(),inplace = True)\n",
    "data_product_hierarchy['cluster_id'].fillna(mode(data_product_hierarchy['cluster_id'])[0][0],inplace = True)"
   ]
  },
  {
   "cell_type": "code",
   "execution_count": 10,
   "id": "dadaf372",
   "metadata": {
    "scrolled": true
   },
   "outputs": [
    {
     "data": {
      "text/plain": [
       "product_id        0\n",
       "product_length    0\n",
       "product_depth     0\n",
       "product_width     0\n",
       "cluster_id        0\n",
       "hierarchy1_id     0\n",
       "hierarchy2_id     0\n",
       "hierarchy3_id     0\n",
       "hierarchy4_id     0\n",
       "hierarchy5_id     0\n",
       "dtype: int64"
      ]
     },
     "execution_count": 10,
     "metadata": {},
     "output_type": "execute_result"
    }
   ],
   "source": [
    "data_product_hierarchy.isnull().sum()"
   ]
  },
  {
   "cell_type": "markdown",
   "id": "34c763cf",
   "metadata": {},
   "source": [
    "## Filling Nas for price"
   ]
  },
  {
   "cell_type": "code",
   "execution_count": 11,
   "id": "58257d2e",
   "metadata": {},
   "outputs": [],
   "source": [
    "dict_price = {}\n",
    "for i, x in enumerate(data_sales['product_id']):\n",
    "    if (x not in dict_price.keys() and not(np.isnan(data_sales['price'][i]))):\n",
    "        dict_price[x]=data_sales['price'][i]"
   ]
  },
  {
   "cell_type": "code",
   "execution_count": 12,
   "id": "b5d0a8e2",
   "metadata": {
    "scrolled": false
   },
   "outputs": [
    {
     "data": {
      "text/plain": [
       "product_id                      0\n",
       "store_id                        0\n",
       "date                            0\n",
       "sales                     1190762\n",
       "revenue                   1190762\n",
       "stock                     1190762\n",
       "price                       10444\n",
       "promo_type_1                    0\n",
       "promo_bin_1              16803149\n",
       "promo_type_2                    0\n",
       "promo_bin_2              19395757\n",
       "promo_discount_2         19395757\n",
       "promo_discount_type_2    19395757\n",
       "dtype: int64"
      ]
     },
     "execution_count": 12,
     "metadata": {},
     "output_type": "execute_result"
    }
   ],
   "source": [
    "data_sales.price = data_sales.price.fillna(data_sales.product_id.map(dict_price))\n",
    "\n",
    "data_sales.isna().sum()"
   ]
  },
  {
   "cell_type": "code",
   "execution_count": 13,
   "id": "68443772",
   "metadata": {},
   "outputs": [],
   "source": [
    "data_sales['price'].fillna(data_sales['price'].mean(),inplace = True)"
   ]
  },
  {
   "cell_type": "markdown",
   "id": "6d887189",
   "metadata": {},
   "source": [
    "# Filling sales,revenue,stock and price by "
   ]
  },
  {
   "cell_type": "code",
   "execution_count": 14,
   "id": "7deafdaf",
   "metadata": {},
   "outputs": [
    {
     "data": {
      "text/plain": [
       "product_id                      0\n",
       "store_id                        0\n",
       "date                            0\n",
       "sales                     1190762\n",
       "revenue                   1190762\n",
       "stock                     1190762\n",
       "price                           0\n",
       "promo_type_1                    0\n",
       "promo_bin_1              16803149\n",
       "promo_type_2                    0\n",
       "promo_bin_2              19395757\n",
       "promo_discount_2         19395757\n",
       "promo_discount_type_2    19395757\n",
       "dtype: int64"
      ]
     },
     "execution_count": 14,
     "metadata": {},
     "output_type": "execute_result"
    }
   ],
   "source": [
    "data_sales.isna().sum()"
   ]
  },
  {
   "cell_type": "markdown",
   "id": "1c2aff41",
   "metadata": {},
   "source": [
    "## Filling Nas for promos"
   ]
  },
  {
   "cell_type": "code",
   "execution_count": 15,
   "id": "ecdd47ad",
   "metadata": {},
   "outputs": [],
   "source": [
    "data_sales['promo_bin_1'].fillna(0,inplace= True)\n",
    "data_sales['promo_bin_2'].fillna(0,inplace= True)\n",
    "data_sales['promo_discount_2'].fillna(0,inplace= True)\n",
    "data_sales['promo_discount_type_2'].fillna(0,inplace= True)"
   ]
  },
  {
   "cell_type": "code",
   "execution_count": 16,
   "id": "95de4e89",
   "metadata": {},
   "outputs": [],
   "source": [
    "data_sales.dropna(inplace=True)"
   ]
  },
  {
   "cell_type": "code",
   "execution_count": 17,
   "id": "bcc93281",
   "metadata": {
    "scrolled": false
   },
   "outputs": [
    {
     "data": {
      "text/plain": [
       "product_id               0\n",
       "store_id                 0\n",
       "date                     0\n",
       "sales                    0\n",
       "revenue                  0\n",
       "stock                    0\n",
       "price                    0\n",
       "promo_type_1             0\n",
       "promo_bin_1              0\n",
       "promo_type_2             0\n",
       "promo_bin_2              0\n",
       "promo_discount_2         0\n",
       "promo_discount_type_2    0\n",
       "dtype: int64"
      ]
     },
     "execution_count": 17,
     "metadata": {},
     "output_type": "execute_result"
    }
   ],
   "source": [
    "data_sales.isna().sum()"
   ]
  },
  {
   "cell_type": "markdown",
   "id": "e4e22206",
   "metadata": {},
   "source": [
    "## Categorical to Numerical"
   ]
  },
  {
   "cell_type": "markdown",
   "id": "ec498320",
   "metadata": {},
   "source": [
    "#### promo_type_1"
   ]
  },
  {
   "cell_type": "code",
   "execution_count": 18,
   "id": "cde98e5e",
   "metadata": {
    "scrolled": true
   },
   "outputs": [
    {
     "data": {
      "text/plain": [
       "array(['PR14', 'PR05', 'PR10', 'PR03', 'PR06', 'PR07', 'PR12', 'PR17',\n",
       "       'PR08', 'PR13', 'PR09', 'PR16', 'PR15', 'PR01', 'PR18', 'PR11',\n",
       "       'PR04'], dtype=object)"
      ]
     },
     "execution_count": 18,
     "metadata": {},
     "output_type": "execute_result"
    }
   ],
   "source": [
    "data_sales['promo_type_1'].unique()"
   ]
  },
  {
   "cell_type": "code",
   "execution_count": 19,
   "id": "4bcd6d8b",
   "metadata": {},
   "outputs": [],
   "source": [
    "encode_dict_type_1 = {\n",
    "    'PR01':1,\n",
    "    'PR03':3,\n",
    "    'PR04':4,\n",
    "    'PR05':5,\n",
    "    'PR06':6,\n",
    "    'PR07':7,\n",
    "    'PR08':8,\n",
    "    'PR09':9,\n",
    "    'PR10':10,\n",
    "    'PR11':11,\n",
    "    'PR12':12,\n",
    "    'PR13':13,\n",
    "    'PR14':14,\n",
    "    'PR15':15,\n",
    "    'PR16':16,\n",
    "    'PR17':17,\n",
    "    'PR18':18\n",
    "}\n",
    "\n",
    "data_sales['promo_type_1'].replace(encode_dict_type_1,inplace=True)"
   ]
  },
  {
   "cell_type": "markdown",
   "id": "a7d99d9a",
   "metadata": {},
   "source": [
    "#### promo_bin_1"
   ]
  },
  {
   "cell_type": "code",
   "execution_count": 20,
   "id": "9df4466b",
   "metadata": {},
   "outputs": [
    {
     "data": {
      "text/plain": [
       "array([0, 'high', 'verylow', 'veryhigh', 'moderate', 'low'], dtype=object)"
      ]
     },
     "execution_count": 20,
     "metadata": {},
     "output_type": "execute_result"
    }
   ],
   "source": [
    "data_sales['promo_bin_1'].unique()"
   ]
  },
  {
   "cell_type": "code",
   "execution_count": 21,
   "id": "57166d17",
   "metadata": {},
   "outputs": [],
   "source": [
    "encode_dict = {\n",
    "    'verylow':1,\n",
    "    'low':2,\n",
    "    'moderate':3,\n",
    "    'high':4,\n",
    "    'veryhigh':5\n",
    "}\n",
    "\n",
    "data_sales['promo_bin_1'].replace(encode_dict,inplace=True)"
   ]
  },
  {
   "cell_type": "markdown",
   "id": "1f6a0f5d",
   "metadata": {},
   "source": [
    "#### promo_type_2"
   ]
  },
  {
   "cell_type": "code",
   "execution_count": 22,
   "id": "3c284c3a",
   "metadata": {},
   "outputs": [
    {
     "data": {
      "text/plain": [
       "array(['PR03', 'PR02', 'PR01', 'PR04'], dtype=object)"
      ]
     },
     "execution_count": 22,
     "metadata": {},
     "output_type": "execute_result"
    }
   ],
   "source": [
    "data_sales['promo_type_2'].unique()"
   ]
  },
  {
   "cell_type": "code",
   "execution_count": 23,
   "id": "fd86d0b0",
   "metadata": {},
   "outputs": [],
   "source": [
    "encode_dict_type_2 = {'PR01':1,\n",
    "                     'PR02':2,\n",
    "                     'PR03':3,\n",
    "                     'PR04':4}\n",
    "\n",
    "data_sales['promo_type_2'].replace(encode_dict_type_2,inplace=True)"
   ]
  },
  {
   "cell_type": "markdown",
   "id": "8013a0be",
   "metadata": {},
   "source": [
    "#### promo_bin_2"
   ]
  },
  {
   "cell_type": "code",
   "execution_count": 24,
   "id": "7923fcc7",
   "metadata": {},
   "outputs": [
    {
     "data": {
      "text/plain": [
       "array([0, 'verylow', 'high', 'veryhigh'], dtype=object)"
      ]
     },
     "execution_count": 24,
     "metadata": {},
     "output_type": "execute_result"
    }
   ],
   "source": [
    "data_sales['promo_bin_2'].unique()"
   ]
  },
  {
   "cell_type": "code",
   "execution_count": 25,
   "id": "3a6575ff",
   "metadata": {},
   "outputs": [],
   "source": [
    "encode_dict_bin_2 = {\n",
    "    'verylow':1,\n",
    "    'low':2,\n",
    "    'high':3,\n",
    "    'veryhigh':4\n",
    "}\n",
    "\n",
    "\n",
    "data_sales['promo_bin_2'].replace(encode_dict_bin_2,inplace=True)"
   ]
  },
  {
   "cell_type": "markdown",
   "id": "74abfd1b",
   "metadata": {},
   "source": [
    "#### promo_discount_type_2"
   ]
  },
  {
   "cell_type": "code",
   "execution_count": 26,
   "id": "66cc0a1d",
   "metadata": {},
   "outputs": [
    {
     "data": {
      "text/plain": [
       "array([0, 'PR04', 'PR02', 'PR01', 'PR03'], dtype=object)"
      ]
     },
     "execution_count": 26,
     "metadata": {},
     "output_type": "execute_result"
    }
   ],
   "source": [
    "data_sales['promo_discount_type_2'].unique()"
   ]
  },
  {
   "cell_type": "code",
   "execution_count": 27,
   "id": "d3dd55dc",
   "metadata": {},
   "outputs": [],
   "source": [
    "encode_discount_type_2 = {'PR01':1,\n",
    "                     'PR02':2,\n",
    "                     'PR03':3,\n",
    "                     'PR04':4}\n",
    "\n",
    "data_sales['promo_discount_type_2'].replace(encode_discount_type_2,inplace=True)"
   ]
  },
  {
   "cell_type": "markdown",
   "id": "a39290cd",
   "metadata": {},
   "source": [
    "## Weekly Data Conversion"
   ]
  },
  {
   "cell_type": "code",
   "execution_count": 28,
   "id": "84bc95c5",
   "metadata": {},
   "outputs": [
    {
     "data": {
      "text/html": [
       "<div>\n",
       "<style scoped>\n",
       "    .dataframe tbody tr th:only-of-type {\n",
       "        vertical-align: middle;\n",
       "    }\n",
       "\n",
       "    .dataframe tbody tr th {\n",
       "        vertical-align: top;\n",
       "    }\n",
       "\n",
       "    .dataframe thead th {\n",
       "        text-align: right;\n",
       "    }\n",
       "</style>\n",
       "<table border=\"1\" class=\"dataframe\">\n",
       "  <thead>\n",
       "    <tr style=\"text-align: right;\">\n",
       "      <th></th>\n",
       "      <th>product_id</th>\n",
       "      <th>store_id</th>\n",
       "      <th>date</th>\n",
       "      <th>sales</th>\n",
       "      <th>revenue</th>\n",
       "      <th>stock</th>\n",
       "      <th>price</th>\n",
       "      <th>promo_type_1</th>\n",
       "      <th>promo_bin_1</th>\n",
       "      <th>promo_type_2</th>\n",
       "      <th>promo_bin_2</th>\n",
       "      <th>promo_discount_2</th>\n",
       "      <th>promo_discount_type_2</th>\n",
       "    </tr>\n",
       "  </thead>\n",
       "  <tbody>\n",
       "    <tr>\n",
       "      <th>0</th>\n",
       "      <td>P0001</td>\n",
       "      <td>S0001</td>\n",
       "      <td>2017-02-12</td>\n",
       "      <td>2.0</td>\n",
       "      <td>11.02</td>\n",
       "      <td>0.0</td>\n",
       "      <td>13.0</td>\n",
       "      <td>28</td>\n",
       "      <td>0</td>\n",
       "      <td>6</td>\n",
       "      <td>0</td>\n",
       "      <td>0.0</td>\n",
       "      <td>0</td>\n",
       "    </tr>\n",
       "    <tr>\n",
       "      <th>1</th>\n",
       "      <td>P0001</td>\n",
       "      <td>S0001</td>\n",
       "      <td>2017-02-19</td>\n",
       "      <td>0.0</td>\n",
       "      <td>0.00</td>\n",
       "      <td>0.0</td>\n",
       "      <td>0.0</td>\n",
       "      <td>0</td>\n",
       "      <td>0</td>\n",
       "      <td>0</td>\n",
       "      <td>0</td>\n",
       "      <td>0.0</td>\n",
       "      <td>0</td>\n",
       "    </tr>\n",
       "    <tr>\n",
       "      <th>2</th>\n",
       "      <td>P0001</td>\n",
       "      <td>S0001</td>\n",
       "      <td>2017-02-26</td>\n",
       "      <td>1.0</td>\n",
       "      <td>5.51</td>\n",
       "      <td>0.0</td>\n",
       "      <td>6.5</td>\n",
       "      <td>14</td>\n",
       "      <td>0</td>\n",
       "      <td>3</td>\n",
       "      <td>0</td>\n",
       "      <td>0.0</td>\n",
       "      <td>0</td>\n",
       "    </tr>\n",
       "    <tr>\n",
       "      <th>3</th>\n",
       "      <td>P0001</td>\n",
       "      <td>S0001</td>\n",
       "      <td>2017-03-05</td>\n",
       "      <td>0.0</td>\n",
       "      <td>0.00</td>\n",
       "      <td>0.0</td>\n",
       "      <td>0.0</td>\n",
       "      <td>0</td>\n",
       "      <td>0</td>\n",
       "      <td>0</td>\n",
       "      <td>0</td>\n",
       "      <td>0.0</td>\n",
       "      <td>0</td>\n",
       "    </tr>\n",
       "    <tr>\n",
       "      <th>4</th>\n",
       "      <td>P0001</td>\n",
       "      <td>S0001</td>\n",
       "      <td>2017-03-12</td>\n",
       "      <td>0.0</td>\n",
       "      <td>0.00</td>\n",
       "      <td>0.0</td>\n",
       "      <td>0.0</td>\n",
       "      <td>0</td>\n",
       "      <td>0</td>\n",
       "      <td>0</td>\n",
       "      <td>0</td>\n",
       "      <td>0.0</td>\n",
       "      <td>0</td>\n",
       "    </tr>\n",
       "    <tr>\n",
       "      <th>...</th>\n",
       "      <td>...</td>\n",
       "      <td>...</td>\n",
       "      <td>...</td>\n",
       "      <td>...</td>\n",
       "      <td>...</td>\n",
       "      <td>...</td>\n",
       "      <td>...</td>\n",
       "      <td>...</td>\n",
       "      <td>...</td>\n",
       "      <td>...</td>\n",
       "      <td>...</td>\n",
       "      <td>...</td>\n",
       "      <td>...</td>\n",
       "    </tr>\n",
       "    <tr>\n",
       "      <th>2967854</th>\n",
       "      <td>P0748</td>\n",
       "      <td>S0142</td>\n",
       "      <td>2019-10-06</td>\n",
       "      <td>2.0</td>\n",
       "      <td>35.00</td>\n",
       "      <td>119.0</td>\n",
       "      <td>132.3</td>\n",
       "      <td>98</td>\n",
       "      <td>0</td>\n",
       "      <td>21</td>\n",
       "      <td>0</td>\n",
       "      <td>0.0</td>\n",
       "      <td>0</td>\n",
       "    </tr>\n",
       "    <tr>\n",
       "      <th>2967855</th>\n",
       "      <td>P0748</td>\n",
       "      <td>S0142</td>\n",
       "      <td>2019-10-13</td>\n",
       "      <td>0.0</td>\n",
       "      <td>0.00</td>\n",
       "      <td>112.0</td>\n",
       "      <td>132.3</td>\n",
       "      <td>98</td>\n",
       "      <td>0</td>\n",
       "      <td>21</td>\n",
       "      <td>0</td>\n",
       "      <td>0.0</td>\n",
       "      <td>0</td>\n",
       "    </tr>\n",
       "    <tr>\n",
       "      <th>2967856</th>\n",
       "      <td>P0748</td>\n",
       "      <td>S0142</td>\n",
       "      <td>2019-10-20</td>\n",
       "      <td>0.0</td>\n",
       "      <td>0.00</td>\n",
       "      <td>112.0</td>\n",
       "      <td>132.3</td>\n",
       "      <td>98</td>\n",
       "      <td>0</td>\n",
       "      <td>21</td>\n",
       "      <td>0</td>\n",
       "      <td>0.0</td>\n",
       "      <td>0</td>\n",
       "    </tr>\n",
       "    <tr>\n",
       "      <th>2967857</th>\n",
       "      <td>P0748</td>\n",
       "      <td>S0142</td>\n",
       "      <td>2019-10-27</td>\n",
       "      <td>0.0</td>\n",
       "      <td>0.00</td>\n",
       "      <td>112.0</td>\n",
       "      <td>132.3</td>\n",
       "      <td>98</td>\n",
       "      <td>0</td>\n",
       "      <td>21</td>\n",
       "      <td>0</td>\n",
       "      <td>0.0</td>\n",
       "      <td>0</td>\n",
       "    </tr>\n",
       "    <tr>\n",
       "      <th>2967858</th>\n",
       "      <td>P0748</td>\n",
       "      <td>S0142</td>\n",
       "      <td>2019-11-03</td>\n",
       "      <td>0.0</td>\n",
       "      <td>0.00</td>\n",
       "      <td>64.0</td>\n",
       "      <td>75.6</td>\n",
       "      <td>56</td>\n",
       "      <td>0</td>\n",
       "      <td>12</td>\n",
       "      <td>0</td>\n",
       "      <td>0.0</td>\n",
       "      <td>0</td>\n",
       "    </tr>\n",
       "  </tbody>\n",
       "</table>\n",
       "<p>2967859 rows × 13 columns</p>\n",
       "</div>"
      ],
      "text/plain": [
       "        product_id store_id       date  sales  revenue  stock  price  \\\n",
       "0            P0001    S0001 2017-02-12    2.0    11.02    0.0   13.0   \n",
       "1            P0001    S0001 2017-02-19    0.0     0.00    0.0    0.0   \n",
       "2            P0001    S0001 2017-02-26    1.0     5.51    0.0    6.5   \n",
       "3            P0001    S0001 2017-03-05    0.0     0.00    0.0    0.0   \n",
       "4            P0001    S0001 2017-03-12    0.0     0.00    0.0    0.0   \n",
       "...            ...      ...        ...    ...      ...    ...    ...   \n",
       "2967854      P0748    S0142 2019-10-06    2.0    35.00  119.0  132.3   \n",
       "2967855      P0748    S0142 2019-10-13    0.0     0.00  112.0  132.3   \n",
       "2967856      P0748    S0142 2019-10-20    0.0     0.00  112.0  132.3   \n",
       "2967857      P0748    S0142 2019-10-27    0.0     0.00  112.0  132.3   \n",
       "2967858      P0748    S0142 2019-11-03    0.0     0.00   64.0   75.6   \n",
       "\n",
       "         promo_type_1  promo_bin_1  promo_type_2  promo_bin_2  \\\n",
       "0                  28            0             6            0   \n",
       "1                   0            0             0            0   \n",
       "2                  14            0             3            0   \n",
       "3                   0            0             0            0   \n",
       "4                   0            0             0            0   \n",
       "...               ...          ...           ...          ...   \n",
       "2967854            98            0            21            0   \n",
       "2967855            98            0            21            0   \n",
       "2967856            98            0            21            0   \n",
       "2967857            98            0            21            0   \n",
       "2967858            56            0            12            0   \n",
       "\n",
       "         promo_discount_2  promo_discount_type_2  \n",
       "0                     0.0                      0  \n",
       "1                     0.0                      0  \n",
       "2                     0.0                      0  \n",
       "3                     0.0                      0  \n",
       "4                     0.0                      0  \n",
       "...                   ...                    ...  \n",
       "2967854               0.0                      0  \n",
       "2967855               0.0                      0  \n",
       "2967856               0.0                      0  \n",
       "2967857               0.0                      0  \n",
       "2967858               0.0                      0  \n",
       "\n",
       "[2967859 rows x 13 columns]"
      ]
     },
     "execution_count": 28,
     "metadata": {},
     "output_type": "execute_result"
    }
   ],
   "source": [
    "#Converting to weekly data\n",
    "\n",
    "weekly_data = data_sales.groupby(['product_id','store_id']).resample('W', label='right', closed = 'right', on='date').sum().reset_index()\n",
    "weekly_data"
   ]
  },
  {
   "cell_type": "code",
   "execution_count": 29,
   "id": "a68a354e",
   "metadata": {},
   "outputs": [],
   "source": [
    "weekly_data = weekly_data.drop(['price'],axis = 1)"
   ]
  },
  {
   "cell_type": "code",
   "execution_count": 30,
   "id": "50a7f824",
   "metadata": {},
   "outputs": [],
   "source": [
    "price = []\n",
    "for x in weekly_data['product_id']:\n",
    "    if x in dict_price.keys():\n",
    "        price.append(dict_price[x])\n",
    "    else :\n",
    "        price.append(np.nan)\n",
    "\n",
    "weekly_data['price'] = price\n",
    "weekly_data['price'].fillna(method = 'ffill',inplace = True)"
   ]
  },
  {
   "cell_type": "code",
   "execution_count": 31,
   "id": "cab4d71b",
   "metadata": {},
   "outputs": [
    {
     "data": {
      "text/plain": [
       "product_id               0\n",
       "store_id                 0\n",
       "date                     0\n",
       "sales                    0\n",
       "revenue                  0\n",
       "stock                    0\n",
       "promo_type_1             0\n",
       "promo_bin_1              0\n",
       "promo_type_2             0\n",
       "promo_bin_2              0\n",
       "promo_discount_2         0\n",
       "promo_discount_type_2    0\n",
       "price                    0\n",
       "dtype: int64"
      ]
     },
     "execution_count": 31,
     "metadata": {},
     "output_type": "execute_result"
    }
   ],
   "source": [
    "weekly_data.isna().sum()"
   ]
  },
  {
   "cell_type": "code",
   "execution_count": 32,
   "id": "32a9d355",
   "metadata": {},
   "outputs": [],
   "source": [
    "#Combining product_hierarchy features with sales\n",
    "\n",
    "dict_length = dict(zip(data_product_hierarchy.product_id,data_product_hierarchy.product_length))\n",
    "dict_depth = dict(zip(data_product_hierarchy.product_id,data_product_hierarchy.product_depth))\n",
    "dict_width = dict(zip(data_product_hierarchy.product_id,data_product_hierarchy.product_width))\n",
    "dict_cluster_id = dict(zip(data_product_hierarchy.product_id,data_product_hierarchy.cluster_id))\n",
    "dict_hierarchy1_id = dict(zip(data_product_hierarchy.product_id,data_product_hierarchy.hierarchy1_id))\n",
    "dict_hierarchy2_id = dict(zip(data_product_hierarchy.product_id,data_product_hierarchy.hierarchy2_id))\n",
    "dict_hierarchy3_id = dict(zip(data_product_hierarchy.product_id,data_product_hierarchy.hierarchy3_id))\n",
    "dict_hierarchy4_id = dict(zip(data_product_hierarchy.product_id,data_product_hierarchy.hierarchy4_id))\n",
    "dict_hierarchy5_id = dict(zip(data_product_hierarchy.product_id,data_product_hierarchy.hierarchy5_id))\n",
    "\n",
    "\n",
    "\n",
    "product_length = []\n",
    "product_depth = []\n",
    "product_width = []\n",
    "cluster_id = []\n",
    "hierarchy1_id = []\n",
    "hierarchy2_id = []\n",
    "hierarchy3_id = []\n",
    "hierarchy4_id = []\n",
    "hierarchy5_id = []\n",
    "\n",
    "for x in weekly_data['product_id']:\n",
    "    product_length.append(dict_length[x])\n",
    "    product_depth.append(dict_depth[x])\n",
    "    product_width.append(dict_width[x])\n",
    "    cluster_id.append(dict_cluster_id[x])\n",
    "    hierarchy1_id.append(dict_hierarchy1_id[x])\n",
    "    hierarchy2_id.append(dict_hierarchy2_id[x])\n",
    "    hierarchy3_id.append(dict_hierarchy3_id[x])\n",
    "    hierarchy4_id.append(dict_hierarchy4_id[x])\n",
    "    hierarchy5_id.append(dict_hierarchy5_id[x])\n",
    "\n",
    "weekly_data['product_length'] = product_length\n",
    "weekly_data['product_depth'] = product_depth\n",
    "weekly_data['product_width'] = product_width\n",
    "weekly_data['cluster_id'] = cluster_id\n",
    "weekly_data['hierarchy1_id'] = hierarchy1_id\n",
    "weekly_data['hierarchy2_id'] = hierarchy2_id\n",
    "weekly_data['hierarchy3_id'] = hierarchy3_id\n",
    "weekly_data['hierarchy4_id'] = hierarchy4_id\n",
    "weekly_data['hierarchy5_id'] = hierarchy5_id"
   ]
  },
  {
   "cell_type": "code",
   "execution_count": 33,
   "id": "71fb54d9",
   "metadata": {},
   "outputs": [],
   "source": [
    "#Combining store_cities features with sales\n",
    "\n",
    "dict_storetype_id = dict(zip(data_store_cities.store_id,data_store_cities.storetype_id))\n",
    "dict_store_size = dict(zip(data_store_cities.store_id,data_store_cities.store_size))\n",
    "dict_city_id = dict(zip(data_store_cities.store_id,data_store_cities.city_id))\n",
    "\n",
    "storetype_id = []\n",
    "store_size = []\n",
    "city_id = []\n",
    "\n",
    "for x in weekly_data['store_id']:\n",
    "    storetype_id.append(dict_storetype_id[x])\n",
    "    store_size.append(dict_store_size[x])\n",
    "    city_id.append(dict_city_id[x])\n",
    "\n",
    "weekly_data['storetype_id'] = storetype_id\n",
    "weekly_data['store_size'] = store_size\n",
    "weekly_data['city_id'] = city_id  "
   ]
  },
  {
   "cell_type": "code",
   "execution_count": 34,
   "id": "c213c20c",
   "metadata": {},
   "outputs": [
    {
     "data": {
      "text/html": [
       "<div>\n",
       "<style scoped>\n",
       "    .dataframe tbody tr th:only-of-type {\n",
       "        vertical-align: middle;\n",
       "    }\n",
       "\n",
       "    .dataframe tbody tr th {\n",
       "        vertical-align: top;\n",
       "    }\n",
       "\n",
       "    .dataframe thead th {\n",
       "        text-align: right;\n",
       "    }\n",
       "</style>\n",
       "<table border=\"1\" class=\"dataframe\">\n",
       "  <thead>\n",
       "    <tr style=\"text-align: right;\">\n",
       "      <th></th>\n",
       "      <th>product_id</th>\n",
       "      <th>store_id</th>\n",
       "      <th>date</th>\n",
       "      <th>sales</th>\n",
       "      <th>revenue</th>\n",
       "      <th>stock</th>\n",
       "      <th>promo_type_1</th>\n",
       "      <th>promo_bin_1</th>\n",
       "      <th>promo_type_2</th>\n",
       "      <th>promo_bin_2</th>\n",
       "      <th>...</th>\n",
       "      <th>product_width</th>\n",
       "      <th>cluster_id</th>\n",
       "      <th>hierarchy1_id</th>\n",
       "      <th>hierarchy2_id</th>\n",
       "      <th>hierarchy3_id</th>\n",
       "      <th>hierarchy4_id</th>\n",
       "      <th>hierarchy5_id</th>\n",
       "      <th>storetype_id</th>\n",
       "      <th>store_size</th>\n",
       "      <th>city_id</th>\n",
       "    </tr>\n",
       "  </thead>\n",
       "  <tbody>\n",
       "    <tr>\n",
       "      <th>0</th>\n",
       "      <td>P0001</td>\n",
       "      <td>S0001</td>\n",
       "      <td>2017-02-12</td>\n",
       "      <td>2.0</td>\n",
       "      <td>11.02</td>\n",
       "      <td>0.0</td>\n",
       "      <td>28</td>\n",
       "      <td>0</td>\n",
       "      <td>6</td>\n",
       "      <td>0</td>\n",
       "      <td>...</td>\n",
       "      <td>20.0</td>\n",
       "      <td>cluster_5</td>\n",
       "      <td>H01</td>\n",
       "      <td>H0105</td>\n",
       "      <td>H010501</td>\n",
       "      <td>H01050100</td>\n",
       "      <td>H0105010006</td>\n",
       "      <td>ST04</td>\n",
       "      <td>41</td>\n",
       "      <td>C031</td>\n",
       "    </tr>\n",
       "    <tr>\n",
       "      <th>1</th>\n",
       "      <td>P0001</td>\n",
       "      <td>S0001</td>\n",
       "      <td>2017-02-19</td>\n",
       "      <td>0.0</td>\n",
       "      <td>0.00</td>\n",
       "      <td>0.0</td>\n",
       "      <td>0</td>\n",
       "      <td>0</td>\n",
       "      <td>0</td>\n",
       "      <td>0</td>\n",
       "      <td>...</td>\n",
       "      <td>20.0</td>\n",
       "      <td>cluster_5</td>\n",
       "      <td>H01</td>\n",
       "      <td>H0105</td>\n",
       "      <td>H010501</td>\n",
       "      <td>H01050100</td>\n",
       "      <td>H0105010006</td>\n",
       "      <td>ST04</td>\n",
       "      <td>41</td>\n",
       "      <td>C031</td>\n",
       "    </tr>\n",
       "  </tbody>\n",
       "</table>\n",
       "<p>2 rows × 25 columns</p>\n",
       "</div>"
      ],
      "text/plain": [
       "  product_id store_id       date  sales  revenue  stock  promo_type_1  \\\n",
       "0      P0001    S0001 2017-02-12    2.0    11.02    0.0            28   \n",
       "1      P0001    S0001 2017-02-19    0.0     0.00    0.0             0   \n",
       "\n",
       "   promo_bin_1  promo_type_2  promo_bin_2  ...  product_width  cluster_id  \\\n",
       "0            0             6            0  ...           20.0   cluster_5   \n",
       "1            0             0            0  ...           20.0   cluster_5   \n",
       "\n",
       "   hierarchy1_id  hierarchy2_id  hierarchy3_id  hierarchy4_id hierarchy5_id  \\\n",
       "0            H01          H0105        H010501      H01050100   H0105010006   \n",
       "1            H01          H0105        H010501      H01050100   H0105010006   \n",
       "\n",
       "  storetype_id store_size city_id  \n",
       "0         ST04         41    C031  \n",
       "1         ST04         41    C031  \n",
       "\n",
       "[2 rows x 25 columns]"
      ]
     },
     "execution_count": 34,
     "metadata": {},
     "output_type": "execute_result"
    }
   ],
   "source": [
    "weekly_data.head(2)"
   ]
  },
  {
   "cell_type": "code",
   "execution_count": 35,
   "id": "b58f130a",
   "metadata": {},
   "outputs": [],
   "source": [
    "# Encode Remaining Labels\n",
    "\n",
    "from sklearn.preprocessing import LabelEncoder\n",
    "le = LabelEncoder()\n",
    "weekly_data['product_id'] = le.fit_transform(weekly_data['product_id'])\n",
    "weekly_data['store_id'] = le.fit_transform(weekly_data['store_id'])\n",
    "weekly_data['cluster_id'] = le.fit_transform(weekly_data['cluster_id'])\n",
    "weekly_data['hierarchy1_id'] = le.fit_transform(weekly_data['hierarchy1_id'])\n",
    "weekly_data['hierarchy2_id'] = le.fit_transform(weekly_data['hierarchy2_id'])\n",
    "weekly_data['hierarchy3_id'] = le.fit_transform(weekly_data['hierarchy3_id'])\n",
    "weekly_data['hierarchy4_id'] = le.fit_transform(weekly_data['hierarchy4_id'])\n",
    "weekly_data['hierarchy5_id'] = le.fit_transform(weekly_data['hierarchy5_id'])\n",
    "weekly_data['storetype_id'] = le.fit_transform(weekly_data['storetype_id'])\n",
    "weekly_data['store_size'] = le.fit_transform(weekly_data['store_size'])\n",
    "weekly_data['city_id'] = le.fit_transform(weekly_data['city_id'])"
   ]
  },
  {
   "cell_type": "code",
   "execution_count": 36,
   "id": "d7c9d28b",
   "metadata": {},
   "outputs": [
    {
     "data": {
      "text/plain": [
       "product_id               0\n",
       "store_id                 0\n",
       "date                     0\n",
       "sales                    0\n",
       "revenue                  0\n",
       "stock                    0\n",
       "promo_type_1             0\n",
       "promo_bin_1              0\n",
       "promo_type_2             0\n",
       "promo_bin_2              0\n",
       "promo_discount_2         0\n",
       "promo_discount_type_2    0\n",
       "price                    0\n",
       "product_length           0\n",
       "product_depth            0\n",
       "product_width            0\n",
       "cluster_id               0\n",
       "hierarchy1_id            0\n",
       "hierarchy2_id            0\n",
       "hierarchy3_id            0\n",
       "hierarchy4_id            0\n",
       "hierarchy5_id            0\n",
       "storetype_id             0\n",
       "store_size               0\n",
       "city_id                  0\n",
       "dtype: int64"
      ]
     },
     "execution_count": 36,
     "metadata": {},
     "output_type": "execute_result"
    }
   ],
   "source": [
    "weekly_data.isna().sum()"
   ]
  },
  {
   "cell_type": "code",
   "execution_count": 55,
   "id": "47dc7c37",
   "metadata": {},
   "outputs": [],
   "source": [
    "X = weekly_data.drop(['sales','date'],axis = 1)\n",
    "y = weekly_data['sales']"
   ]
  },
  {
   "cell_type": "code",
   "execution_count": 168,
   "id": "232b1b1a",
   "metadata": {},
   "outputs": [],
   "source": [
    "X_new = weekly_data.drop(['sales','date','promo_discount_2','promo_bin_2','promo_bin_2','promo_discount_type_2','promo_bin_1'],axis=1)"
   ]
  },
  {
   "cell_type": "code",
   "execution_count": 172,
   "id": "6b50e54c",
   "metadata": {},
   "outputs": [],
   "source": [
    "from sklearn.model_selection import train_test_split\n",
    "\n",
    "X_train,X_test,y_train,y_test = train_test_split(X_new,y,test_size=0.2)"
   ]
  },
  {
   "cell_type": "code",
   "execution_count": 173,
   "id": "0962263a",
   "metadata": {},
   "outputs": [
    {
     "name": "stdout",
     "output_type": "stream",
     "text": [
      "[0]\tvalidation_0-rmse:34.30048\tvalidation_1-rmse:30.67584\n",
      "[1]\tvalidation_0-rmse:30.62903\tvalidation_1-rmse:26.24913\n",
      "[2]\tvalidation_0-rmse:30.32068\tvalidation_1-rmse:25.90316\n",
      "[3]\tvalidation_0-rmse:27.25200\tvalidation_1-rmse:22.11762\n",
      "[4]\tvalidation_0-rmse:22.83668\tvalidation_1-rmse:18.37628\n",
      "[5]\tvalidation_0-rmse:19.49225\tvalidation_1-rmse:16.15110\n",
      "[6]\tvalidation_0-rmse:16.87428\tvalidation_1-rmse:14.00148\n",
      "[7]\tvalidation_0-rmse:16.06379\tvalidation_1-rmse:13.99977\n",
      "[8]\tvalidation_0-rmse:14.12090\tvalidation_1-rmse:13.61719\n",
      "[9]\tvalidation_0-rmse:12.39303\tvalidation_1-rmse:12.59430\n",
      "[10]\tvalidation_0-rmse:12.15290\tvalidation_1-rmse:10.39225\n",
      "[11]\tvalidation_0-rmse:12.13888\tvalidation_1-rmse:10.36102\n",
      "[12]\tvalidation_0-rmse:10.46810\tvalidation_1-rmse:8.89462\n",
      "[13]\tvalidation_0-rmse:9.40157\tvalidation_1-rmse:7.79650\n",
      "[14]\tvalidation_0-rmse:9.10760\tvalidation_1-rmse:6.86432\n",
      "[15]\tvalidation_0-rmse:8.72611\tvalidation_1-rmse:6.60585\n",
      "[16]\tvalidation_0-rmse:7.78469\tvalidation_1-rmse:5.75603\n",
      "[17]\tvalidation_0-rmse:7.00574\tvalidation_1-rmse:4.86635\n",
      "[18]\tvalidation_0-rmse:6.17580\tvalidation_1-rmse:4.42325\n",
      "[19]\tvalidation_0-rmse:6.03823\tvalidation_1-rmse:4.08691\n",
      "[20]\tvalidation_0-rmse:5.93243\tvalidation_1-rmse:4.05075\n",
      "[21]\tvalidation_0-rmse:5.69476\tvalidation_1-rmse:3.63023\n",
      "[22]\tvalidation_0-rmse:5.14765\tvalidation_1-rmse:3.20403\n",
      "[23]\tvalidation_0-rmse:5.09692\tvalidation_1-rmse:3.12421\n",
      "[24]\tvalidation_0-rmse:4.95876\tvalidation_1-rmse:3.02514\n",
      "[25]\tvalidation_0-rmse:4.59997\tvalidation_1-rmse:2.83867\n",
      "[26]\tvalidation_0-rmse:4.14204\tvalidation_1-rmse:2.72909\n",
      "[27]\tvalidation_0-rmse:4.12310\tvalidation_1-rmse:2.68011\n",
      "[28]\tvalidation_0-rmse:4.06875\tvalidation_1-rmse:2.63873\n",
      "[29]\tvalidation_0-rmse:4.04369\tvalidation_1-rmse:2.63651\n",
      "[30]\tvalidation_0-rmse:3.69578\tvalidation_1-rmse:2.56588\n",
      "[31]\tvalidation_0-rmse:3.67738\tvalidation_1-rmse:2.53841\n",
      "[32]\tvalidation_0-rmse:3.39547\tvalidation_1-rmse:2.39967\n",
      "[33]\tvalidation_0-rmse:3.18499\tvalidation_1-rmse:2.35033\n",
      "[34]\tvalidation_0-rmse:3.05962\tvalidation_1-rmse:2.30574\n",
      "[35]\tvalidation_0-rmse:3.04816\tvalidation_1-rmse:2.23033\n",
      "[36]\tvalidation_0-rmse:2.96211\tvalidation_1-rmse:2.18594\n",
      "[37]\tvalidation_0-rmse:2.82346\tvalidation_1-rmse:2.17529\n",
      "[38]\tvalidation_0-rmse:2.74309\tvalidation_1-rmse:2.17338\n",
      "[39]\tvalidation_0-rmse:2.70586\tvalidation_1-rmse:2.16414\n",
      "[40]\tvalidation_0-rmse:2.70036\tvalidation_1-rmse:2.15786\n",
      "[41]\tvalidation_0-rmse:2.63041\tvalidation_1-rmse:2.13809\n",
      "[42]\tvalidation_0-rmse:2.61528\tvalidation_1-rmse:2.13434\n",
      "[43]\tvalidation_0-rmse:2.55940\tvalidation_1-rmse:2.13854\n",
      "[44]\tvalidation_0-rmse:2.51430\tvalidation_1-rmse:2.09473\n",
      "[45]\tvalidation_0-rmse:2.48477\tvalidation_1-rmse:2.08246\n",
      "[46]\tvalidation_0-rmse:2.47525\tvalidation_1-rmse:2.06836\n",
      "[47]\tvalidation_0-rmse:2.41218\tvalidation_1-rmse:2.05323\n",
      "[48]\tvalidation_0-rmse:2.41076\tvalidation_1-rmse:2.05023\n",
      "[49]\tvalidation_0-rmse:2.40019\tvalidation_1-rmse:2.00067\n",
      "[50]\tvalidation_0-rmse:2.34444\tvalidation_1-rmse:1.98090\n",
      "[51]\tvalidation_0-rmse:2.28221\tvalidation_1-rmse:1.96981\n",
      "[52]\tvalidation_0-rmse:2.25441\tvalidation_1-rmse:1.98226\n",
      "[53]\tvalidation_0-rmse:2.22831\tvalidation_1-rmse:1.97209\n",
      "[54]\tvalidation_0-rmse:2.22406\tvalidation_1-rmse:1.96451\n",
      "[55]\tvalidation_0-rmse:2.21834\tvalidation_1-rmse:1.96511\n",
      "[56]\tvalidation_0-rmse:2.20820\tvalidation_1-rmse:1.96225\n",
      "[57]\tvalidation_0-rmse:2.18994\tvalidation_1-rmse:1.96354\n",
      "[58]\tvalidation_0-rmse:2.18335\tvalidation_1-rmse:1.95915\n",
      "[59]\tvalidation_0-rmse:2.16632\tvalidation_1-rmse:1.94113\n",
      "[60]\tvalidation_0-rmse:2.15597\tvalidation_1-rmse:1.93196\n",
      "[61]\tvalidation_0-rmse:2.15320\tvalidation_1-rmse:1.92483\n",
      "[62]\tvalidation_0-rmse:2.14624\tvalidation_1-rmse:1.91965\n",
      "[63]\tvalidation_0-rmse:2.13503\tvalidation_1-rmse:1.91528\n",
      "[64]\tvalidation_0-rmse:2.12459\tvalidation_1-rmse:1.90497\n",
      "[65]\tvalidation_0-rmse:2.12333\tvalidation_1-rmse:1.90310\n",
      "[66]\tvalidation_0-rmse:2.12137\tvalidation_1-rmse:1.87240\n",
      "[67]\tvalidation_0-rmse:2.12500\tvalidation_1-rmse:1.85135\n",
      "[68]\tvalidation_0-rmse:2.11355\tvalidation_1-rmse:1.84089\n",
      "[69]\tvalidation_0-rmse:2.09195\tvalidation_1-rmse:1.86711\n",
      "[70]\tvalidation_0-rmse:2.08830\tvalidation_1-rmse:1.84867\n",
      "[71]\tvalidation_0-rmse:2.08088\tvalidation_1-rmse:1.85479\n",
      "[72]\tvalidation_0-rmse:2.07340\tvalidation_1-rmse:1.84682\n",
      "[73]\tvalidation_0-rmse:2.06435\tvalidation_1-rmse:1.84766\n",
      "[74]\tvalidation_0-rmse:2.05724\tvalidation_1-rmse:1.85099\n",
      "[75]\tvalidation_0-rmse:2.06012\tvalidation_1-rmse:1.82085\n",
      "[76]\tvalidation_0-rmse:2.05509\tvalidation_1-rmse:1.82734\n",
      "[77]\tvalidation_0-rmse:2.04417\tvalidation_1-rmse:1.85433\n",
      "[78]\tvalidation_0-rmse:2.04015\tvalidation_1-rmse:1.84507\n",
      "[79]\tvalidation_0-rmse:2.03604\tvalidation_1-rmse:1.83282\n",
      "[80]\tvalidation_0-rmse:2.02560\tvalidation_1-rmse:1.85267\n",
      "[81]\tvalidation_0-rmse:2.01670\tvalidation_1-rmse:1.86110\n",
      "[82]\tvalidation_0-rmse:2.01752\tvalidation_1-rmse:1.79984\n",
      "[83]\tvalidation_0-rmse:2.00962\tvalidation_1-rmse:1.80270\n",
      "[84]\tvalidation_0-rmse:2.00386\tvalidation_1-rmse:1.80016\n",
      "[85]\tvalidation_0-rmse:1.99684\tvalidation_1-rmse:1.83286\n",
      "[86]\tvalidation_0-rmse:1.99145\tvalidation_1-rmse:1.82899\n",
      "[87]\tvalidation_0-rmse:1.99034\tvalidation_1-rmse:1.82682\n",
      "[88]\tvalidation_0-rmse:1.98562\tvalidation_1-rmse:1.82524\n",
      "[89]\tvalidation_0-rmse:1.98791\tvalidation_1-rmse:1.79984\n",
      "[90]\tvalidation_0-rmse:1.98912\tvalidation_1-rmse:1.77073\n",
      "[91]\tvalidation_0-rmse:1.98207\tvalidation_1-rmse:1.77395\n",
      "[92]\tvalidation_0-rmse:1.97929\tvalidation_1-rmse:1.76212\n",
      "[93]\tvalidation_0-rmse:1.97488\tvalidation_1-rmse:1.75583\n",
      "[94]\tvalidation_0-rmse:1.97227\tvalidation_1-rmse:1.75260\n",
      "[95]\tvalidation_0-rmse:1.97568\tvalidation_1-rmse:1.73636\n",
      "[96]\tvalidation_0-rmse:1.97984\tvalidation_1-rmse:1.70354\n",
      "[97]\tvalidation_0-rmse:1.96679\tvalidation_1-rmse:1.72958\n",
      "[98]\tvalidation_0-rmse:1.96175\tvalidation_1-rmse:1.72755\n",
      "[99]\tvalidation_0-rmse:1.95811\tvalidation_1-rmse:1.73091\n",
      "Training took: 62.18280363082886s\n",
      "Valdation MSE: 2.9023619895748016\n"
     ]
    }
   ],
   "source": [
    "from xgboost import XGBRegressor\n",
    "import time\n",
    "\n",
    "ts = time.time()\n",
    "\n",
    "xgb = XGBRegressor( seed = 13, \n",
    "    tree_method = \"hist\", \n",
    "    subsample = 0.7,\n",
    "    max_depth = 9,\n",
    "    learning_rate = 0.3,\n",
    "    gamma = 5,\n",
    "    colsample_bytree = 0.8,\n",
    "      max_bin=512            \n",
    "    )\n",
    "xgb.fit(\n",
    "    X_new,y,\n",
    "    eval_metric=\"rmse\",\n",
    "    eval_set=[(X_train, y_train), (X_test, y_test)],\n",
    "    verbose=True,\n",
    "    early_stopping_rounds = 10\n",
    "    )\n",
    "print('Training took: {0}s'.format(time.time()-ts))\n",
    "yhat_val_xgb = xgb.predict(X_test)\n",
    "print('Valdation MSE:', mean_squared_error(y_test, yhat_val_xgb)) #Valdation RMSE: 0.9409594444278176"
   ]
  },
  {
   "cell_type": "code",
   "execution_count": 174,
   "id": "50b5f2e1",
   "metadata": {},
   "outputs": [],
   "source": [
    "import pickle\n",
    "\n",
    "filename = 'finalized_model.sav'\n",
    "pickle.dump(xgb, open(filename, 'wb'))"
   ]
  }
 ],
 "metadata": {
  "kernelspec": {
   "display_name": "Python 3",
   "language": "python",
   "name": "python3"
  },
  "language_info": {
   "codemirror_mode": {
    "name": "ipython",
    "version": 3
   },
   "file_extension": ".py",
   "mimetype": "text/x-python",
   "name": "python",
   "nbconvert_exporter": "python",
   "pygments_lexer": "ipython3",
   "version": "3.8.8"
  }
 },
 "nbformat": 4,
 "nbformat_minor": 5
}
