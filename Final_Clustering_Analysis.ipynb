{
 "cells": [
  {
   "cell_type": "code",
   "execution_count": 1,
   "id": "51918dbc",
   "metadata": {},
   "outputs": [],
   "source": [
    "import pandas as pd\n",
    "import numpy as np\n",
    "from scipy.stats import mode"
   ]
  },
  {
   "cell_type": "code",
   "execution_count": 2,
   "id": "6b376b70",
   "metadata": {
    "scrolled": true
   },
   "outputs": [
    {
     "name": "stderr",
     "output_type": "stream",
     "text": [
      "C:\\Users\\DELL\\anaconda3\\lib\\site-packages\\IPython\\core\\interactiveshell.py:3165: DtypeWarning: Columns (10,12) have mixed types.Specify dtype option on import or set low_memory=False.\n",
      "  has_raised = await self.run_ast_nodes(code_ast.body, cell_name,\n"
     ]
    }
   ],
   "source": [
    "data_sales = pd.read_csv('sales.csv',parse_dates=['date'])"
   ]
  },
  {
   "cell_type": "code",
   "execution_count": 3,
   "id": "626faf61",
   "metadata": {},
   "outputs": [],
   "source": [
    "data_product_hierarchy = pd.read_csv('product_hierarchy.csv')"
   ]
  },
  {
   "cell_type": "code",
   "execution_count": 4,
   "id": "a1ce7042",
   "metadata": {},
   "outputs": [],
   "source": [
    "data_store_cities = pd.read_csv('store_cities.csv')"
   ]
  },
  {
   "cell_type": "markdown",
   "id": "bf27a525",
   "metadata": {},
   "source": [
    "## Filling Nas for product hierarchy"
   ]
  },
  {
   "cell_type": "code",
   "execution_count": 6,
   "id": "79edf089",
   "metadata": {},
   "outputs": [],
   "source": [
    "data_product_hierarchy['product_length'].fillna(data_product_hierarchy['product_length'].mean(),inplace = True)\n",
    "data_product_hierarchy['product_depth'].fillna(data_product_hierarchy['product_depth'].mean(),inplace = True)\n",
    "data_product_hierarchy['product_width'].fillna(data_product_hierarchy['product_width'].mean(),inplace = True)\n",
    "data_product_hierarchy['cluster_id'].fillna(mode(data_product_hierarchy['cluster_id'])[0][0],inplace = True)"
   ]
  },
  {
   "cell_type": "code",
   "execution_count": 7,
   "id": "dadaf372",
   "metadata": {
    "scrolled": true
   },
   "outputs": [
    {
     "data": {
      "text/plain": [
       "product_id        0\n",
       "product_length    0\n",
       "product_depth     0\n",
       "product_width     0\n",
       "cluster_id        0\n",
       "hierarchy1_id     0\n",
       "hierarchy2_id     0\n",
       "hierarchy3_id     0\n",
       "hierarchy4_id     0\n",
       "hierarchy5_id     0\n",
       "dtype: int64"
      ]
     },
     "execution_count": 7,
     "metadata": {},
     "output_type": "execute_result"
    }
   ],
   "source": [
    "data_product_hierarchy.isnull().sum()"
   ]
  },
  {
   "cell_type": "markdown",
   "id": "34c763cf",
   "metadata": {},
   "source": [
    "## Filling Nas for price"
   ]
  },
  {
   "cell_type": "code",
   "execution_count": 8,
   "id": "58257d2e",
   "metadata": {},
   "outputs": [],
   "source": [
    "dict_price = {}\n",
    "for i, x in enumerate(data_sales['product_id']):\n",
    "    if (x not in dict_price.keys() and not(np.isnan(data_sales['price'][i]))):\n",
    "        dict_price[x]=data_sales['price'][i]"
   ]
  },
  {
   "cell_type": "code",
   "execution_count": 9,
   "id": "b5d0a8e2",
   "metadata": {
    "scrolled": false
   },
   "outputs": [
    {
     "data": {
      "text/plain": [
       "product_id                      0\n",
       "store_id                        0\n",
       "date                            0\n",
       "sales                     1190762\n",
       "revenue                   1190762\n",
       "stock                     1190762\n",
       "price                       10444\n",
       "promo_type_1                    0\n",
       "promo_bin_1              16803149\n",
       "promo_type_2                    0\n",
       "promo_bin_2              19395757\n",
       "promo_discount_2         19395757\n",
       "promo_discount_type_2    19395757\n",
       "dtype: int64"
      ]
     },
     "execution_count": 9,
     "metadata": {},
     "output_type": "execute_result"
    }
   ],
   "source": [
    "data_sales.price = data_sales.price.fillna(data_sales.product_id.map(dict_price))\n",
    "\n",
    "data_sales.isna().sum()"
   ]
  },
  {
   "cell_type": "code",
   "execution_count": 10,
   "id": "68443772",
   "metadata": {},
   "outputs": [],
   "source": [
    "data_sales['price'].fillna(data_sales['price'].mean(),inplace = True)"
   ]
  },
  {
   "cell_type": "markdown",
   "id": "6d887189",
   "metadata": {},
   "source": [
    "# Filling sales,revenue,stock and price by "
   ]
  },
  {
   "cell_type": "code",
   "execution_count": 11,
   "id": "7deafdaf",
   "metadata": {},
   "outputs": [
    {
     "data": {
      "text/plain": [
       "product_id                      0\n",
       "store_id                        0\n",
       "date                            0\n",
       "sales                     1190762\n",
       "revenue                   1190762\n",
       "stock                     1190762\n",
       "price                           0\n",
       "promo_type_1                    0\n",
       "promo_bin_1              16803149\n",
       "promo_type_2                    0\n",
       "promo_bin_2              19395757\n",
       "promo_discount_2         19395757\n",
       "promo_discount_type_2    19395757\n",
       "dtype: int64"
      ]
     },
     "execution_count": 11,
     "metadata": {},
     "output_type": "execute_result"
    }
   ],
   "source": [
    "data_sales.isna().sum()"
   ]
  },
  {
   "cell_type": "markdown",
   "id": "1c2aff41",
   "metadata": {},
   "source": [
    "## Filling Nas for promos"
   ]
  },
  {
   "cell_type": "code",
   "execution_count": 12,
   "id": "ecdd47ad",
   "metadata": {},
   "outputs": [],
   "source": [
    "data_sales['promo_bin_1'].fillna(0,inplace= True)\n",
    "data_sales['promo_bin_2'].fillna(0,inplace= True)\n",
    "data_sales['promo_discount_2'].fillna(0,inplace= True)\n",
    "data_sales['promo_discount_type_2'].fillna(0,inplace= True)"
   ]
  },
  {
   "cell_type": "code",
   "execution_count": 13,
   "id": "95de4e89",
   "metadata": {},
   "outputs": [],
   "source": [
    "data_sales.dropna(inplace=True)"
   ]
  },
  {
   "cell_type": "code",
   "execution_count": 14,
   "id": "bcc93281",
   "metadata": {
    "scrolled": false
   },
   "outputs": [
    {
     "data": {
      "text/plain": [
       "product_id               0\n",
       "store_id                 0\n",
       "date                     0\n",
       "sales                    0\n",
       "revenue                  0\n",
       "stock                    0\n",
       "price                    0\n",
       "promo_type_1             0\n",
       "promo_bin_1              0\n",
       "promo_type_2             0\n",
       "promo_bin_2              0\n",
       "promo_discount_2         0\n",
       "promo_discount_type_2    0\n",
       "dtype: int64"
      ]
     },
     "execution_count": 14,
     "metadata": {},
     "output_type": "execute_result"
    }
   ],
   "source": [
    "data_sales.isna().sum()"
   ]
  },
  {
   "cell_type": "markdown",
   "id": "e4e22206",
   "metadata": {},
   "source": [
    "## Categorical to Numerical"
   ]
  },
  {
   "cell_type": "markdown",
   "id": "ec498320",
   "metadata": {},
   "source": [
    "#### promo_type_1"
   ]
  },
  {
   "cell_type": "code",
   "execution_count": 15,
   "id": "cde98e5e",
   "metadata": {
    "scrolled": true
   },
   "outputs": [
    {
     "data": {
      "text/plain": [
       "array(['PR14', 'PR05', 'PR10', 'PR03', 'PR06', 'PR07', 'PR12', 'PR17',\n",
       "       'PR08', 'PR13', 'PR09', 'PR16', 'PR15', 'PR01', 'PR18', 'PR11',\n",
       "       'PR04'], dtype=object)"
      ]
     },
     "execution_count": 15,
     "metadata": {},
     "output_type": "execute_result"
    }
   ],
   "source": [
    "data_sales['promo_type_1'].unique()"
   ]
  },
  {
   "cell_type": "code",
   "execution_count": 16,
   "id": "4bcd6d8b",
   "metadata": {},
   "outputs": [],
   "source": [
    "encode_dict_type_1 = {\n",
    "    'PR01':1,\n",
    "    'PR03':3,\n",
    "    'PR04':4,\n",
    "    'PR05':5,\n",
    "    'PR06':6,\n",
    "    'PR07':7,\n",
    "    'PR08':8,\n",
    "    'PR09':9,\n",
    "    'PR10':10,\n",
    "    'PR11':11,\n",
    "    'PR12':12,\n",
    "    'PR13':13,\n",
    "    'PR14':14,\n",
    "    'PR15':15,\n",
    "    'PR16':16,\n",
    "    'PR17':17,\n",
    "    'PR18':18\n",
    "}\n",
    "\n",
    "data_sales['promo_type_1'].replace(encode_dict_type_1,inplace=True)"
   ]
  },
  {
   "cell_type": "markdown",
   "id": "a7d99d9a",
   "metadata": {},
   "source": [
    "#### promo_bin_1"
   ]
  },
  {
   "cell_type": "code",
   "execution_count": 17,
   "id": "9df4466b",
   "metadata": {},
   "outputs": [
    {
     "data": {
      "text/plain": [
       "array([0, 'high', 'verylow', 'veryhigh', 'moderate', 'low'], dtype=object)"
      ]
     },
     "execution_count": 17,
     "metadata": {},
     "output_type": "execute_result"
    }
   ],
   "source": [
    "data_sales['promo_bin_1'].unique()"
   ]
  },
  {
   "cell_type": "code",
   "execution_count": 18,
   "id": "57166d17",
   "metadata": {},
   "outputs": [],
   "source": [
    "encode_dict = {\n",
    "    'verylow':1,\n",
    "    'low':2,\n",
    "    'moderate':3,\n",
    "    'high':4,\n",
    "    'veryhigh':5\n",
    "}\n",
    "\n",
    "data_sales['promo_bin_1'].replace(encode_dict,inplace=True)"
   ]
  },
  {
   "cell_type": "markdown",
   "id": "1f6a0f5d",
   "metadata": {},
   "source": [
    "#### promo_type_2"
   ]
  },
  {
   "cell_type": "code",
   "execution_count": 19,
   "id": "3c284c3a",
   "metadata": {},
   "outputs": [
    {
     "data": {
      "text/plain": [
       "array(['PR03', 'PR02', 'PR01', 'PR04'], dtype=object)"
      ]
     },
     "execution_count": 19,
     "metadata": {},
     "output_type": "execute_result"
    }
   ],
   "source": [
    "data_sales['promo_type_2'].unique()"
   ]
  },
  {
   "cell_type": "code",
   "execution_count": 20,
   "id": "fd86d0b0",
   "metadata": {},
   "outputs": [],
   "source": [
    "encode_dict_type_2 = {'PR01':1,\n",
    "                     'PR02':2,\n",
    "                     'PR03':3,\n",
    "                     'PR04':4}\n",
    "\n",
    "data_sales['promo_type_2'].replace(encode_dict_type_2,inplace=True)"
   ]
  },
  {
   "cell_type": "markdown",
   "id": "8013a0be",
   "metadata": {},
   "source": [
    "#### promo_bin_2"
   ]
  },
  {
   "cell_type": "code",
   "execution_count": 20,
   "id": "7923fcc7",
   "metadata": {},
   "outputs": [
    {
     "data": {
      "text/plain": [
       "array([0, 'verylow', 'high', 'veryhigh'], dtype=object)"
      ]
     },
     "execution_count": 20,
     "metadata": {},
     "output_type": "execute_result"
    }
   ],
   "source": [
    "data_sales['promo_bin_2'].unique()"
   ]
  },
  {
   "cell_type": "code",
   "execution_count": 21,
   "id": "3a6575ff",
   "metadata": {},
   "outputs": [],
   "source": [
    "encode_dict_bin_2 = {\n",
    "    'verylow':1,\n",
    "    'low':2,\n",
    "    'high':3,\n",
    "    'veryhigh':4\n",
    "}\n",
    "\n",
    "\n",
    "data_sales['promo_bin_2'].replace(encode_dict_bin_2,inplace=True)"
   ]
  },
  {
   "cell_type": "markdown",
   "id": "74abfd1b",
   "metadata": {},
   "source": [
    "#### promo_discount_type_2"
   ]
  },
  {
   "cell_type": "code",
   "execution_count": 22,
   "id": "66cc0a1d",
   "metadata": {},
   "outputs": [
    {
     "data": {
      "text/plain": [
       "array([0, 'PR04', 'PR02', 'PR01', 'PR03'], dtype=object)"
      ]
     },
     "execution_count": 22,
     "metadata": {},
     "output_type": "execute_result"
    }
   ],
   "source": [
    "data_sales['promo_discount_type_2'].unique()"
   ]
  },
  {
   "cell_type": "code",
   "execution_count": 21,
   "id": "d3dd55dc",
   "metadata": {},
   "outputs": [],
   "source": [
    "encode_discount_type_2 = {'PR01':1,\n",
    "                     'PR02':2,\n",
    "                     'PR03':3,\n",
    "                     'PR04':4}\n",
    "\n",
    "data_sales['promo_discount_type_2'].replace(encode_discount_type_2,inplace=True)"
   ]
  },
  {
   "cell_type": "markdown",
   "id": "a39290cd",
   "metadata": {},
   "source": [
    "## Weekly Data Conversion"
   ]
  },
  {
   "cell_type": "code",
   "execution_count": 22,
   "id": "84bc95c5",
   "metadata": {},
   "outputs": [
    {
     "data": {
      "text/html": [
       "<div>\n",
       "<style scoped>\n",
       "    .dataframe tbody tr th:only-of-type {\n",
       "        vertical-align: middle;\n",
       "    }\n",
       "\n",
       "    .dataframe tbody tr th {\n",
       "        vertical-align: top;\n",
       "    }\n",
       "\n",
       "    .dataframe thead th {\n",
       "        text-align: right;\n",
       "    }\n",
       "</style>\n",
       "<table border=\"1\" class=\"dataframe\">\n",
       "  <thead>\n",
       "    <tr style=\"text-align: right;\">\n",
       "      <th></th>\n",
       "      <th>product_id</th>\n",
       "      <th>store_id</th>\n",
       "      <th>date</th>\n",
       "      <th>sales</th>\n",
       "      <th>revenue</th>\n",
       "      <th>stock</th>\n",
       "      <th>price</th>\n",
       "      <th>promo_type_1</th>\n",
       "      <th>promo_bin_1</th>\n",
       "      <th>promo_type_2</th>\n",
       "      <th>promo_discount_2</th>\n",
       "      <th>promo_discount_type_2</th>\n",
       "    </tr>\n",
       "  </thead>\n",
       "  <tbody>\n",
       "    <tr>\n",
       "      <th>0</th>\n",
       "      <td>P0001</td>\n",
       "      <td>S0001</td>\n",
       "      <td>2017-02-28</td>\n",
       "      <td>3.0</td>\n",
       "      <td>16.53</td>\n",
       "      <td>0.0</td>\n",
       "      <td>19.5</td>\n",
       "      <td>42</td>\n",
       "      <td>0</td>\n",
       "      <td>9</td>\n",
       "      <td>0.0</td>\n",
       "      <td>0</td>\n",
       "    </tr>\n",
       "    <tr>\n",
       "      <th>1</th>\n",
       "      <td>P0001</td>\n",
       "      <td>S0001</td>\n",
       "      <td>2017-03-31</td>\n",
       "      <td>0.0</td>\n",
       "      <td>0.00</td>\n",
       "      <td>0.0</td>\n",
       "      <td>0.0</td>\n",
       "      <td>0</td>\n",
       "      <td>0</td>\n",
       "      <td>0</td>\n",
       "      <td>0.0</td>\n",
       "      <td>0</td>\n",
       "    </tr>\n",
       "    <tr>\n",
       "      <th>2</th>\n",
       "      <td>P0001</td>\n",
       "      <td>S0001</td>\n",
       "      <td>2017-04-30</td>\n",
       "      <td>0.0</td>\n",
       "      <td>0.00</td>\n",
       "      <td>0.0</td>\n",
       "      <td>0.0</td>\n",
       "      <td>0</td>\n",
       "      <td>0</td>\n",
       "      <td>0</td>\n",
       "      <td>0.0</td>\n",
       "      <td>0</td>\n",
       "    </tr>\n",
       "    <tr>\n",
       "      <th>3</th>\n",
       "      <td>P0001</td>\n",
       "      <td>S0001</td>\n",
       "      <td>2017-05-31</td>\n",
       "      <td>0.0</td>\n",
       "      <td>0.00</td>\n",
       "      <td>0.0</td>\n",
       "      <td>0.0</td>\n",
       "      <td>0</td>\n",
       "      <td>0</td>\n",
       "      <td>0</td>\n",
       "      <td>0.0</td>\n",
       "      <td>0</td>\n",
       "    </tr>\n",
       "    <tr>\n",
       "      <th>4</th>\n",
       "      <td>P0001</td>\n",
       "      <td>S0001</td>\n",
       "      <td>2017-06-30</td>\n",
       "      <td>0.0</td>\n",
       "      <td>0.00</td>\n",
       "      <td>0.0</td>\n",
       "      <td>0.0</td>\n",
       "      <td>0</td>\n",
       "      <td>0</td>\n",
       "      <td>0</td>\n",
       "      <td>0.0</td>\n",
       "      <td>0</td>\n",
       "    </tr>\n",
       "    <tr>\n",
       "      <th>...</th>\n",
       "      <td>...</td>\n",
       "      <td>...</td>\n",
       "      <td>...</td>\n",
       "      <td>...</td>\n",
       "      <td>...</td>\n",
       "      <td>...</td>\n",
       "      <td>...</td>\n",
       "      <td>...</td>\n",
       "      <td>...</td>\n",
       "      <td>...</td>\n",
       "      <td>...</td>\n",
       "      <td>...</td>\n",
       "    </tr>\n",
       "    <tr>\n",
       "      <th>696145</th>\n",
       "      <td>P0748</td>\n",
       "      <td>S0142</td>\n",
       "      <td>2019-06-30</td>\n",
       "      <td>0.0</td>\n",
       "      <td>0.00</td>\n",
       "      <td>156.0</td>\n",
       "      <td>245.7</td>\n",
       "      <td>182</td>\n",
       "      <td>0</td>\n",
       "      <td>39</td>\n",
       "      <td>0.0</td>\n",
       "      <td>0</td>\n",
       "    </tr>\n",
       "    <tr>\n",
       "      <th>696146</th>\n",
       "      <td>P0748</td>\n",
       "      <td>S0142</td>\n",
       "      <td>2019-07-31</td>\n",
       "      <td>0.0</td>\n",
       "      <td>0.00</td>\n",
       "      <td>432.0</td>\n",
       "      <td>585.9</td>\n",
       "      <td>416</td>\n",
       "      <td>8</td>\n",
       "      <td>93</td>\n",
       "      <td>0.0</td>\n",
       "      <td>0</td>\n",
       "    </tr>\n",
       "    <tr>\n",
       "      <th>696147</th>\n",
       "      <td>P0748</td>\n",
       "      <td>S0142</td>\n",
       "      <td>2019-08-31</td>\n",
       "      <td>3.0</td>\n",
       "      <td>45.50</td>\n",
       "      <td>714.0</td>\n",
       "      <td>585.9</td>\n",
       "      <td>416</td>\n",
       "      <td>8</td>\n",
       "      <td>93</td>\n",
       "      <td>0.0</td>\n",
       "      <td>0</td>\n",
       "    </tr>\n",
       "    <tr>\n",
       "      <th>696148</th>\n",
       "      <td>P0748</td>\n",
       "      <td>S0142</td>\n",
       "      <td>2019-09-30</td>\n",
       "      <td>3.0</td>\n",
       "      <td>45.50</td>\n",
       "      <td>580.0</td>\n",
       "      <td>567.0</td>\n",
       "      <td>402</td>\n",
       "      <td>8</td>\n",
       "      <td>90</td>\n",
       "      <td>0.0</td>\n",
       "      <td>0</td>\n",
       "    </tr>\n",
       "    <tr>\n",
       "      <th>696149</th>\n",
       "      <td>P0748</td>\n",
       "      <td>S0142</td>\n",
       "      <td>2019-10-31</td>\n",
       "      <td>2.0</td>\n",
       "      <td>35.00</td>\n",
       "      <td>501.0</td>\n",
       "      <td>585.9</td>\n",
       "      <td>434</td>\n",
       "      <td>0</td>\n",
       "      <td>93</td>\n",
       "      <td>0.0</td>\n",
       "      <td>0</td>\n",
       "    </tr>\n",
       "  </tbody>\n",
       "</table>\n",
       "<p>696150 rows × 12 columns</p>\n",
       "</div>"
      ],
      "text/plain": [
       "       product_id store_id       date  sales  revenue  stock  price  \\\n",
       "0           P0001    S0001 2017-02-28    3.0    16.53    0.0   19.5   \n",
       "1           P0001    S0001 2017-03-31    0.0     0.00    0.0    0.0   \n",
       "2           P0001    S0001 2017-04-30    0.0     0.00    0.0    0.0   \n",
       "3           P0001    S0001 2017-05-31    0.0     0.00    0.0    0.0   \n",
       "4           P0001    S0001 2017-06-30    0.0     0.00    0.0    0.0   \n",
       "...           ...      ...        ...    ...      ...    ...    ...   \n",
       "696145      P0748    S0142 2019-06-30    0.0     0.00  156.0  245.7   \n",
       "696146      P0748    S0142 2019-07-31    0.0     0.00  432.0  585.9   \n",
       "696147      P0748    S0142 2019-08-31    3.0    45.50  714.0  585.9   \n",
       "696148      P0748    S0142 2019-09-30    3.0    45.50  580.0  567.0   \n",
       "696149      P0748    S0142 2019-10-31    2.0    35.00  501.0  585.9   \n",
       "\n",
       "        promo_type_1  promo_bin_1  promo_type_2  promo_discount_2  \\\n",
       "0                 42            0             9               0.0   \n",
       "1                  0            0             0               0.0   \n",
       "2                  0            0             0               0.0   \n",
       "3                  0            0             0               0.0   \n",
       "4                  0            0             0               0.0   \n",
       "...              ...          ...           ...               ...   \n",
       "696145           182            0            39               0.0   \n",
       "696146           416            8            93               0.0   \n",
       "696147           416            8            93               0.0   \n",
       "696148           402            8            90               0.0   \n",
       "696149           434            0            93               0.0   \n",
       "\n",
       "        promo_discount_type_2  \n",
       "0                           0  \n",
       "1                           0  \n",
       "2                           0  \n",
       "3                           0  \n",
       "4                           0  \n",
       "...                       ...  \n",
       "696145                      0  \n",
       "696146                      0  \n",
       "696147                      0  \n",
       "696148                      0  \n",
       "696149                      0  \n",
       "\n",
       "[696150 rows x 12 columns]"
      ]
     },
     "execution_count": 22,
     "metadata": {},
     "output_type": "execute_result"
    }
   ],
   "source": [
    "#Converting to weekly data\n",
    "\n",
    "weekly_data = data_sales.groupby(['product_id','store_id']).resample('M', label='right', closed = 'right', on='date').sum().reset_index()\n",
    "weekly_data"
   ]
  },
  {
   "cell_type": "code",
   "execution_count": 23,
   "id": "b6175983",
   "metadata": {},
   "outputs": [
    {
     "data": {
      "text/html": [
       "<div>\n",
       "<style scoped>\n",
       "    .dataframe tbody tr th:only-of-type {\n",
       "        vertical-align: middle;\n",
       "    }\n",
       "\n",
       "    .dataframe tbody tr th {\n",
       "        vertical-align: top;\n",
       "    }\n",
       "\n",
       "    .dataframe thead th {\n",
       "        text-align: right;\n",
       "    }\n",
       "</style>\n",
       "<table border=\"1\" class=\"dataframe\">\n",
       "  <thead>\n",
       "    <tr style=\"text-align: right;\">\n",
       "      <th></th>\n",
       "      <th>product_id</th>\n",
       "      <th>store_id</th>\n",
       "      <th>date</th>\n",
       "      <th>sales</th>\n",
       "      <th>revenue</th>\n",
       "      <th>stock</th>\n",
       "      <th>price</th>\n",
       "      <th>promo_type_1</th>\n",
       "      <th>promo_bin_1</th>\n",
       "      <th>promo_type_2</th>\n",
       "      <th>promo_discount_2</th>\n",
       "      <th>promo_discount_type_2</th>\n",
       "    </tr>\n",
       "  </thead>\n",
       "  <tbody>\n",
       "    <tr>\n",
       "      <th>85126</th>\n",
       "      <td>P0103</td>\n",
       "      <td>S0097</td>\n",
       "      <td>2017-02-28</td>\n",
       "      <td>83171.0</td>\n",
       "      <td>157983.652</td>\n",
       "      <td>1219.0</td>\n",
       "      <td>74.20</td>\n",
       "      <td>392</td>\n",
       "      <td>0</td>\n",
       "      <td>84</td>\n",
       "      <td>0.0</td>\n",
       "      <td>0</td>\n",
       "    </tr>\n",
       "    <tr>\n",
       "      <th>85128</th>\n",
       "      <td>P0103</td>\n",
       "      <td>S0097</td>\n",
       "      <td>2017-04-30</td>\n",
       "      <td>43753.0</td>\n",
       "      <td>85388.881</td>\n",
       "      <td>3374.0</td>\n",
       "      <td>84.85</td>\n",
       "      <td>420</td>\n",
       "      <td>0</td>\n",
       "      <td>90</td>\n",
       "      <td>0.0</td>\n",
       "      <td>0</td>\n",
       "    </tr>\n",
       "    <tr>\n",
       "      <th>366553</th>\n",
       "      <td>P0397</td>\n",
       "      <td>S0097</td>\n",
       "      <td>2017-06-30</td>\n",
       "      <td>6411.0</td>\n",
       "      <td>31183.060</td>\n",
       "      <td>100.0</td>\n",
       "      <td>345.10</td>\n",
       "      <td>406</td>\n",
       "      <td>0</td>\n",
       "      <td>87</td>\n",
       "      <td>0.0</td>\n",
       "      <td>0</td>\n",
       "    </tr>\n",
       "    <tr>\n",
       "      <th>418458</th>\n",
       "      <td>P0438</td>\n",
       "      <td>S0085</td>\n",
       "      <td>2017-03-31</td>\n",
       "      <td>3781.0</td>\n",
       "      <td>826.610</td>\n",
       "      <td>83449.0</td>\n",
       "      <td>7.75</td>\n",
       "      <td>434</td>\n",
       "      <td>0</td>\n",
       "      <td>93</td>\n",
       "      <td>0.0</td>\n",
       "      <td>0</td>\n",
       "    </tr>\n",
       "    <tr>\n",
       "      <th>418457</th>\n",
       "      <td>P0438</td>\n",
       "      <td>S0085</td>\n",
       "      <td>2017-02-28</td>\n",
       "      <td>3458.0</td>\n",
       "      <td>800.480</td>\n",
       "      <td>24519.0</td>\n",
       "      <td>7.00</td>\n",
       "      <td>392</td>\n",
       "      <td>0</td>\n",
       "      <td>84</td>\n",
       "      <td>0.0</td>\n",
       "      <td>0</td>\n",
       "    </tr>\n",
       "    <tr>\n",
       "      <th>...</th>\n",
       "      <td>...</td>\n",
       "      <td>...</td>\n",
       "      <td>...</td>\n",
       "      <td>...</td>\n",
       "      <td>...</td>\n",
       "      <td>...</td>\n",
       "      <td>...</td>\n",
       "      <td>...</td>\n",
       "      <td>...</td>\n",
       "      <td>...</td>\n",
       "      <td>...</td>\n",
       "      <td>...</td>\n",
       "    </tr>\n",
       "    <tr>\n",
       "      <th>501964</th>\n",
       "      <td>P0536</td>\n",
       "      <td>S0090</td>\n",
       "      <td>2018-03-31</td>\n",
       "      <td>0.0</td>\n",
       "      <td>0.000</td>\n",
       "      <td>341.0</td>\n",
       "      <td>116.25</td>\n",
       "      <td>434</td>\n",
       "      <td>0</td>\n",
       "      <td>93</td>\n",
       "      <td>0.0</td>\n",
       "      <td>0</td>\n",
       "    </tr>\n",
       "    <tr>\n",
       "      <th>219274</th>\n",
       "      <td>P0241</td>\n",
       "      <td>S0025</td>\n",
       "      <td>2018-11-30</td>\n",
       "      <td>0.0</td>\n",
       "      <td>0.000</td>\n",
       "      <td>60.0</td>\n",
       "      <td>508.50</td>\n",
       "      <td>294</td>\n",
       "      <td>14</td>\n",
       "      <td>90</td>\n",
       "      <td>0.0</td>\n",
       "      <td>0</td>\n",
       "    </tr>\n",
       "    <tr>\n",
       "      <th>219272</th>\n",
       "      <td>P0241</td>\n",
       "      <td>S0025</td>\n",
       "      <td>2018-09-30</td>\n",
       "      <td>0.0</td>\n",
       "      <td>0.000</td>\n",
       "      <td>90.0</td>\n",
       "      <td>433.50</td>\n",
       "      <td>420</td>\n",
       "      <td>0</td>\n",
       "      <td>90</td>\n",
       "      <td>0.0</td>\n",
       "      <td>0</td>\n",
       "    </tr>\n",
       "    <tr>\n",
       "      <th>219271</th>\n",
       "      <td>P0241</td>\n",
       "      <td>S0025</td>\n",
       "      <td>2018-08-31</td>\n",
       "      <td>0.0</td>\n",
       "      <td>0.000</td>\n",
       "      <td>106.0</td>\n",
       "      <td>405.45</td>\n",
       "      <td>434</td>\n",
       "      <td>0</td>\n",
       "      <td>93</td>\n",
       "      <td>0.0</td>\n",
       "      <td>0</td>\n",
       "    </tr>\n",
       "    <tr>\n",
       "      <th>348075</th>\n",
       "      <td>P0377</td>\n",
       "      <td>S0032</td>\n",
       "      <td>2019-03-31</td>\n",
       "      <td>0.0</td>\n",
       "      <td>0.000</td>\n",
       "      <td>155.0</td>\n",
       "      <td>449.50</td>\n",
       "      <td>434</td>\n",
       "      <td>0</td>\n",
       "      <td>93</td>\n",
       "      <td>0.0</td>\n",
       "      <td>0</td>\n",
       "    </tr>\n",
       "  </tbody>\n",
       "</table>\n",
       "<p>696150 rows × 12 columns</p>\n",
       "</div>"
      ],
      "text/plain": [
       "       product_id store_id       date    sales     revenue    stock   price  \\\n",
       "85126       P0103    S0097 2017-02-28  83171.0  157983.652   1219.0   74.20   \n",
       "85128       P0103    S0097 2017-04-30  43753.0   85388.881   3374.0   84.85   \n",
       "366553      P0397    S0097 2017-06-30   6411.0   31183.060    100.0  345.10   \n",
       "418458      P0438    S0085 2017-03-31   3781.0     826.610  83449.0    7.75   \n",
       "418457      P0438    S0085 2017-02-28   3458.0     800.480  24519.0    7.00   \n",
       "...           ...      ...        ...      ...         ...      ...     ...   \n",
       "501964      P0536    S0090 2018-03-31      0.0       0.000    341.0  116.25   \n",
       "219274      P0241    S0025 2018-11-30      0.0       0.000     60.0  508.50   \n",
       "219272      P0241    S0025 2018-09-30      0.0       0.000     90.0  433.50   \n",
       "219271      P0241    S0025 2018-08-31      0.0       0.000    106.0  405.45   \n",
       "348075      P0377    S0032 2019-03-31      0.0       0.000    155.0  449.50   \n",
       "\n",
       "        promo_type_1  promo_bin_1  promo_type_2  promo_discount_2  \\\n",
       "85126            392            0            84               0.0   \n",
       "85128            420            0            90               0.0   \n",
       "366553           406            0            87               0.0   \n",
       "418458           434            0            93               0.0   \n",
       "418457           392            0            84               0.0   \n",
       "...              ...          ...           ...               ...   \n",
       "501964           434            0            93               0.0   \n",
       "219274           294           14            90               0.0   \n",
       "219272           420            0            90               0.0   \n",
       "219271           434            0            93               0.0   \n",
       "348075           434            0            93               0.0   \n",
       "\n",
       "        promo_discount_type_2  \n",
       "85126                       0  \n",
       "85128                       0  \n",
       "366553                      0  \n",
       "418458                      0  \n",
       "418457                      0  \n",
       "...                       ...  \n",
       "501964                      0  \n",
       "219274                      0  \n",
       "219272                      0  \n",
       "219271                      0  \n",
       "348075                      0  \n",
       "\n",
       "[696150 rows x 12 columns]"
      ]
     },
     "execution_count": 23,
     "metadata": {},
     "output_type": "execute_result"
    }
   ],
   "source": [
    "sales_sorted = weekly_data.sort_values(by=['sales'],ascending=False)\n",
    "\n",
    "sales_sorted"
   ]
  },
  {
   "cell_type": "code",
   "execution_count": 24,
   "id": "2d0fa18b",
   "metadata": {},
   "outputs": [
    {
     "data": {
      "text/html": [
       "<div>\n",
       "<style scoped>\n",
       "    .dataframe tbody tr th:only-of-type {\n",
       "        vertical-align: middle;\n",
       "    }\n",
       "\n",
       "    .dataframe tbody tr th {\n",
       "        vertical-align: top;\n",
       "    }\n",
       "\n",
       "    .dataframe thead th {\n",
       "        text-align: right;\n",
       "    }\n",
       "</style>\n",
       "<table border=\"1\" class=\"dataframe\">\n",
       "  <thead>\n",
       "    <tr style=\"text-align: right;\">\n",
       "      <th></th>\n",
       "      <th>product_id</th>\n",
       "      <th>store_id</th>\n",
       "      <th>date</th>\n",
       "      <th>sales</th>\n",
       "      <th>revenue</th>\n",
       "      <th>stock</th>\n",
       "      <th>price</th>\n",
       "      <th>promo_type_1</th>\n",
       "      <th>promo_bin_1</th>\n",
       "      <th>promo_type_2</th>\n",
       "      <th>promo_discount_2</th>\n",
       "      <th>promo_discount_type_2</th>\n",
       "    </tr>\n",
       "  </thead>\n",
       "  <tbody>\n",
       "    <tr>\n",
       "      <th>85126</th>\n",
       "      <td>P0103</td>\n",
       "      <td>S0097</td>\n",
       "      <td>2017-02-28</td>\n",
       "      <td>83171.0</td>\n",
       "      <td>157983.652</td>\n",
       "      <td>1219.0</td>\n",
       "      <td>74.20</td>\n",
       "      <td>392</td>\n",
       "      <td>0</td>\n",
       "      <td>84</td>\n",
       "      <td>0.0</td>\n",
       "      <td>0</td>\n",
       "    </tr>\n",
       "    <tr>\n",
       "      <th>85128</th>\n",
       "      <td>P0103</td>\n",
       "      <td>S0097</td>\n",
       "      <td>2017-04-30</td>\n",
       "      <td>43753.0</td>\n",
       "      <td>85388.881</td>\n",
       "      <td>3374.0</td>\n",
       "      <td>84.85</td>\n",
       "      <td>420</td>\n",
       "      <td>0</td>\n",
       "      <td>90</td>\n",
       "      <td>0.0</td>\n",
       "      <td>0</td>\n",
       "    </tr>\n",
       "    <tr>\n",
       "      <th>366553</th>\n",
       "      <td>P0397</td>\n",
       "      <td>S0097</td>\n",
       "      <td>2017-06-30</td>\n",
       "      <td>6411.0</td>\n",
       "      <td>31183.060</td>\n",
       "      <td>100.0</td>\n",
       "      <td>345.10</td>\n",
       "      <td>406</td>\n",
       "      <td>0</td>\n",
       "      <td>87</td>\n",
       "      <td>0.0</td>\n",
       "      <td>0</td>\n",
       "    </tr>\n",
       "    <tr>\n",
       "      <th>418458</th>\n",
       "      <td>P0438</td>\n",
       "      <td>S0085</td>\n",
       "      <td>2017-03-31</td>\n",
       "      <td>3781.0</td>\n",
       "      <td>826.610</td>\n",
       "      <td>83449.0</td>\n",
       "      <td>7.75</td>\n",
       "      <td>434</td>\n",
       "      <td>0</td>\n",
       "      <td>93</td>\n",
       "      <td>0.0</td>\n",
       "      <td>0</td>\n",
       "    </tr>\n",
       "    <tr>\n",
       "      <th>418457</th>\n",
       "      <td>P0438</td>\n",
       "      <td>S0085</td>\n",
       "      <td>2017-02-28</td>\n",
       "      <td>3458.0</td>\n",
       "      <td>800.480</td>\n",
       "      <td>24519.0</td>\n",
       "      <td>7.00</td>\n",
       "      <td>392</td>\n",
       "      <td>0</td>\n",
       "      <td>84</td>\n",
       "      <td>0.0</td>\n",
       "      <td>0</td>\n",
       "    </tr>\n",
       "  </tbody>\n",
       "</table>\n",
       "</div>"
      ],
      "text/plain": [
       "       product_id store_id       date    sales     revenue    stock   price  \\\n",
       "85126       P0103    S0097 2017-02-28  83171.0  157983.652   1219.0   74.20   \n",
       "85128       P0103    S0097 2017-04-30  43753.0   85388.881   3374.0   84.85   \n",
       "366553      P0397    S0097 2017-06-30   6411.0   31183.060    100.0  345.10   \n",
       "418458      P0438    S0085 2017-03-31   3781.0     826.610  83449.0    7.75   \n",
       "418457      P0438    S0085 2017-02-28   3458.0     800.480  24519.0    7.00   \n",
       "\n",
       "        promo_type_1  promo_bin_1  promo_type_2  promo_discount_2  \\\n",
       "85126            392            0            84               0.0   \n",
       "85128            420            0            90               0.0   \n",
       "366553           406            0            87               0.0   \n",
       "418458           434            0            93               0.0   \n",
       "418457           392            0            84               0.0   \n",
       "\n",
       "        promo_discount_type_2  \n",
       "85126                       0  \n",
       "85128                       0  \n",
       "366553                      0  \n",
       "418458                      0  \n",
       "418457                      0  "
      ]
     },
     "execution_count": 24,
     "metadata": {},
     "output_type": "execute_result"
    }
   ],
   "source": [
    "sales_sorted = weekly_data.sort_values(by=['sales'],ascending=False)\n",
    "\n",
    "sales_sorted.head(5)"
   ]
  },
  {
   "cell_type": "markdown",
   "id": "625a0670",
   "metadata": {},
   "source": [
    "##### Product P0103 and Store S0097 have more sales in the given week "
   ]
  },
  {
   "cell_type": "markdown",
   "id": "f90edd29",
   "metadata": {},
   "source": []
  },
  {
   "cell_type": "code",
   "execution_count": 25,
   "id": "f11fb32b",
   "metadata": {},
   "outputs": [
    {
     "data": {
      "text/html": [
       "<div>\n",
       "<style scoped>\n",
       "    .dataframe tbody tr th:only-of-type {\n",
       "        vertical-align: middle;\n",
       "    }\n",
       "\n",
       "    .dataframe tbody tr th {\n",
       "        vertical-align: top;\n",
       "    }\n",
       "\n",
       "    .dataframe thead th {\n",
       "        text-align: right;\n",
       "    }\n",
       "</style>\n",
       "<table border=\"1\" class=\"dataframe\">\n",
       "  <thead>\n",
       "    <tr style=\"text-align: right;\">\n",
       "      <th></th>\n",
       "      <th>sales</th>\n",
       "      <th>revenue</th>\n",
       "      <th>stock</th>\n",
       "      <th>price</th>\n",
       "      <th>promo_type_1</th>\n",
       "      <th>promo_bin_1</th>\n",
       "      <th>promo_type_2</th>\n",
       "      <th>promo_discount_2</th>\n",
       "      <th>promo_discount_type_2</th>\n",
       "    </tr>\n",
       "    <tr>\n",
       "      <th>store_id</th>\n",
       "      <th></th>\n",
       "      <th></th>\n",
       "      <th></th>\n",
       "      <th></th>\n",
       "      <th></th>\n",
       "      <th></th>\n",
       "      <th></th>\n",
       "      <th></th>\n",
       "      <th></th>\n",
       "    </tr>\n",
       "  </thead>\n",
       "  <tbody>\n",
       "    <tr>\n",
       "      <th>S0085</th>\n",
       "      <td>432608.517</td>\n",
       "      <td>2156037.860</td>\n",
       "      <td>1.073722e+07</td>\n",
       "      <td>7.871690e+06</td>\n",
       "      <td>4182351</td>\n",
       "      <td>108621</td>\n",
       "      <td>975848</td>\n",
       "      <td>12456.0</td>\n",
       "      <td>969</td>\n",
       "    </tr>\n",
       "    <tr>\n",
       "      <th>S0097</th>\n",
       "      <td>322597.646</td>\n",
       "      <td>1488854.262</td>\n",
       "      <td>5.886279e+06</td>\n",
       "      <td>5.504291e+06</td>\n",
       "      <td>3588014</td>\n",
       "      <td>97047</td>\n",
       "      <td>836727</td>\n",
       "      <td>10941.0</td>\n",
       "      <td>875</td>\n",
       "    </tr>\n",
       "    <tr>\n",
       "      <th>S0026</th>\n",
       "      <td>218628.704</td>\n",
       "      <td>1317370.030</td>\n",
       "      <td>5.073888e+06</td>\n",
       "      <td>4.983100e+06</td>\n",
       "      <td>3427446</td>\n",
       "      <td>91329</td>\n",
       "      <td>798455</td>\n",
       "      <td>11114.0</td>\n",
       "      <td>882</td>\n",
       "    </tr>\n",
       "    <tr>\n",
       "      <th>S0062</th>\n",
       "      <td>208001.063</td>\n",
       "      <td>1299166.320</td>\n",
       "      <td>5.335818e+06</td>\n",
       "      <td>5.211048e+06</td>\n",
       "      <td>3446942</td>\n",
       "      <td>93092</td>\n",
       "      <td>803410</td>\n",
       "      <td>11843.0</td>\n",
       "      <td>926</td>\n",
       "    </tr>\n",
       "    <tr>\n",
       "      <th>S0038</th>\n",
       "      <td>203208.971</td>\n",
       "      <td>1027630.080</td>\n",
       "      <td>9.239523e+06</td>\n",
       "      <td>8.031128e+06</td>\n",
       "      <td>4294213</td>\n",
       "      <td>113146</td>\n",
       "      <td>1001872</td>\n",
       "      <td>11914.0</td>\n",
       "      <td>938</td>\n",
       "    </tr>\n",
       "  </tbody>\n",
       "</table>\n",
       "</div>"
      ],
      "text/plain": [
       "               sales      revenue         stock         price  promo_type_1  \\\n",
       "store_id                                                                      \n",
       "S0085     432608.517  2156037.860  1.073722e+07  7.871690e+06       4182351   \n",
       "S0097     322597.646  1488854.262  5.886279e+06  5.504291e+06       3588014   \n",
       "S0026     218628.704  1317370.030  5.073888e+06  4.983100e+06       3427446   \n",
       "S0062     208001.063  1299166.320  5.335818e+06  5.211048e+06       3446942   \n",
       "S0038     203208.971  1027630.080  9.239523e+06  8.031128e+06       4294213   \n",
       "\n",
       "          promo_bin_1  promo_type_2  promo_discount_2  promo_discount_type_2  \n",
       "store_id                                                                      \n",
       "S0085          108621        975848           12456.0                    969  \n",
       "S0097           97047        836727           10941.0                    875  \n",
       "S0026           91329        798455           11114.0                    882  \n",
       "S0062           93092        803410           11843.0                    926  \n",
       "S0038          113146       1001872           11914.0                    938  "
      ]
     },
     "execution_count": 25,
     "metadata": {},
     "output_type": "execute_result"
    }
   ],
   "source": [
    "store_high_sales = weekly_data.groupby(['store_id']).sum()\n",
    "\n",
    "store_high_sales.sort_values(by=['sales'],ascending=False).head(5)"
   ]
  },
  {
   "cell_type": "markdown",
   "id": "f7d1b806",
   "metadata": {},
   "source": [
    "##### Store S0085 have more sales in the given Dataset"
   ]
  },
  {
   "cell_type": "markdown",
   "id": "afb225a9",
   "metadata": {},
   "source": []
  },
  {
   "cell_type": "code",
   "execution_count": 26,
   "id": "76ca06f7",
   "metadata": {},
   "outputs": [
    {
     "data": {
      "text/html": [
       "<div>\n",
       "<style scoped>\n",
       "    .dataframe tbody tr th:only-of-type {\n",
       "        vertical-align: middle;\n",
       "    }\n",
       "\n",
       "    .dataframe tbody tr th {\n",
       "        vertical-align: top;\n",
       "    }\n",
       "\n",
       "    .dataframe thead th {\n",
       "        text-align: right;\n",
       "    }\n",
       "</style>\n",
       "<table border=\"1\" class=\"dataframe\">\n",
       "  <thead>\n",
       "    <tr style=\"text-align: right;\">\n",
       "      <th></th>\n",
       "      <th>sales</th>\n",
       "      <th>revenue</th>\n",
       "      <th>stock</th>\n",
       "      <th>price</th>\n",
       "      <th>promo_type_1</th>\n",
       "      <th>promo_bin_1</th>\n",
       "      <th>promo_type_2</th>\n",
       "      <th>promo_discount_2</th>\n",
       "      <th>promo_discount_type_2</th>\n",
       "    </tr>\n",
       "    <tr>\n",
       "      <th>product_id</th>\n",
       "      <th></th>\n",
       "      <th></th>\n",
       "      <th></th>\n",
       "      <th></th>\n",
       "      <th></th>\n",
       "      <th></th>\n",
       "      <th></th>\n",
       "      <th></th>\n",
       "      <th></th>\n",
       "    </tr>\n",
       "  </thead>\n",
       "  <tbody>\n",
       "    <tr>\n",
       "      <th>P0103</th>\n",
       "      <td>881634.0</td>\n",
       "      <td>2670199.663</td>\n",
       "      <td>10196627.0</td>\n",
       "      <td>448312.00</td>\n",
       "      <td>1568250</td>\n",
       "      <td>26912</td>\n",
       "      <td>383653</td>\n",
       "      <td>10480.0</td>\n",
       "      <td>2096</td>\n",
       "    </tr>\n",
       "    <tr>\n",
       "      <th>P0438</th>\n",
       "      <td>565348.0</td>\n",
       "      <td>217294.200</td>\n",
       "      <td>4197712.0</td>\n",
       "      <td>37501.30</td>\n",
       "      <td>1210146</td>\n",
       "      <td>0</td>\n",
       "      <td>259317</td>\n",
       "      <td>0.0</td>\n",
       "      <td>0</td>\n",
       "    </tr>\n",
       "    <tr>\n",
       "      <th>P0364</th>\n",
       "      <td>277763.0</td>\n",
       "      <td>312163.560</td>\n",
       "      <td>4493133.0</td>\n",
       "      <td>170230.85</td>\n",
       "      <td>1827984</td>\n",
       "      <td>4980</td>\n",
       "      <td>399390</td>\n",
       "      <td>16236.0</td>\n",
       "      <td>492</td>\n",
       "    </tr>\n",
       "    <tr>\n",
       "      <th>P0051</th>\n",
       "      <td>236744.0</td>\n",
       "      <td>175127.540</td>\n",
       "      <td>6003624.0</td>\n",
       "      <td>98746.30</td>\n",
       "      <td>1642997</td>\n",
       "      <td>20216</td>\n",
       "      <td>360204</td>\n",
       "      <td>0.0</td>\n",
       "      <td>0</td>\n",
       "    </tr>\n",
       "    <tr>\n",
       "      <th>P0388</th>\n",
       "      <td>215487.0</td>\n",
       "      <td>323230.500</td>\n",
       "      <td>186520.0</td>\n",
       "      <td>53523.00</td>\n",
       "      <td>499548</td>\n",
       "      <td>0</td>\n",
       "      <td>107046</td>\n",
       "      <td>0.0</td>\n",
       "      <td>0</td>\n",
       "    </tr>\n",
       "  </tbody>\n",
       "</table>\n",
       "</div>"
      ],
      "text/plain": [
       "               sales      revenue       stock      price  promo_type_1  \\\n",
       "product_id                                                               \n",
       "P0103       881634.0  2670199.663  10196627.0  448312.00       1568250   \n",
       "P0438       565348.0   217294.200   4197712.0   37501.30       1210146   \n",
       "P0364       277763.0   312163.560   4493133.0  170230.85       1827984   \n",
       "P0051       236744.0   175127.540   6003624.0   98746.30       1642997   \n",
       "P0388       215487.0   323230.500    186520.0   53523.00        499548   \n",
       "\n",
       "            promo_bin_1  promo_type_2  promo_discount_2  promo_discount_type_2  \n",
       "product_id                                                                      \n",
       "P0103             26912        383653           10480.0                   2096  \n",
       "P0438                 0        259317               0.0                      0  \n",
       "P0364              4980        399390           16236.0                    492  \n",
       "P0051             20216        360204               0.0                      0  \n",
       "P0388                 0        107046               0.0                      0  "
      ]
     },
     "execution_count": 26,
     "metadata": {},
     "output_type": "execute_result"
    }
   ],
   "source": [
    "store_high_sales = weekly_data.groupby(['product_id']).sum()\n",
    "\n",
    "store_high_sales.sort_values(by=['sales'],ascending=False).head(5)"
   ]
  },
  {
   "cell_type": "markdown",
   "id": "667f7fc6",
   "metadata": {},
   "source": [
    "##### Product P0103  have more sales in the Given dataset"
   ]
  },
  {
   "cell_type": "markdown",
   "id": "becb0524",
   "metadata": {},
   "source": []
  },
  {
   "cell_type": "code",
   "execution_count": 27,
   "id": "0df37e8b",
   "metadata": {},
   "outputs": [],
   "source": [
    "# Encode Remaining Labels\n",
    "\n",
    "from sklearn.preprocessing import LabelEncoder\n",
    "le = LabelEncoder()\n",
    "weekly_data['product_id'] = le.fit_transform(weekly_data['product_id'])\n",
    "weekly_data['store_id'] = le.fit_transform(weekly_data['store_id'])"
   ]
  },
  {
   "cell_type": "code",
   "execution_count": 29,
   "id": "21c69cf3",
   "metadata": {
    "scrolled": false
   },
   "outputs": [
    {
     "data": {
      "text/html": [
       "<div>\n",
       "<style scoped>\n",
       "    .dataframe tbody tr th:only-of-type {\n",
       "        vertical-align: middle;\n",
       "    }\n",
       "\n",
       "    .dataframe tbody tr th {\n",
       "        vertical-align: top;\n",
       "    }\n",
       "\n",
       "    .dataframe thead th {\n",
       "        text-align: right;\n",
       "    }\n",
       "</style>\n",
       "<table border=\"1\" class=\"dataframe\">\n",
       "  <thead>\n",
       "    <tr style=\"text-align: right;\">\n",
       "      <th></th>\n",
       "      <th>product_id</th>\n",
       "      <th>store_id</th>\n",
       "      <th>sales</th>\n",
       "    </tr>\n",
       "  </thead>\n",
       "  <tbody>\n",
       "    <tr>\n",
       "      <th>0</th>\n",
       "      <td>0</td>\n",
       "      <td>0</td>\n",
       "      <td>3.0</td>\n",
       "    </tr>\n",
       "    <tr>\n",
       "      <th>1</th>\n",
       "      <td>0</td>\n",
       "      <td>0</td>\n",
       "      <td>0.0</td>\n",
       "    </tr>\n",
       "    <tr>\n",
       "      <th>2</th>\n",
       "      <td>0</td>\n",
       "      <td>0</td>\n",
       "      <td>0.0</td>\n",
       "    </tr>\n",
       "    <tr>\n",
       "      <th>3</th>\n",
       "      <td>0</td>\n",
       "      <td>0</td>\n",
       "      <td>0.0</td>\n",
       "    </tr>\n",
       "    <tr>\n",
       "      <th>4</th>\n",
       "      <td>0</td>\n",
       "      <td>0</td>\n",
       "      <td>0.0</td>\n",
       "    </tr>\n",
       "  </tbody>\n",
       "</table>\n",
       "</div>"
      ],
      "text/plain": [
       "   product_id  store_id  sales\n",
       "0           0         0    3.0\n",
       "1           0         0    0.0\n",
       "2           0         0    0.0\n",
       "3           0         0    0.0\n",
       "4           0         0    0.0"
      ]
     },
     "execution_count": 29,
     "metadata": {},
     "output_type": "execute_result"
    }
   ],
   "source": [
    "sales_kmeans = weekly_data.drop(['revenue','stock','date','price','promo_type_1','promo_bin_1','promo_type_2','promo_discount_2','promo_discount_type_2'],axis = 1)\n",
    "sales_kmeans.head(5)"
   ]
  },
  {
   "cell_type": "markdown",
   "id": "db541043",
   "metadata": {},
   "source": [
    "# Cluster Analysis"
   ]
  },
  {
   "cell_type": "code",
   "execution_count": 33,
   "id": "d700d019",
   "metadata": {},
   "outputs": [],
   "source": [
    "from sklearn.cluster import KMeans\n",
    "\n",
    "km = KMeans(n_clusters=5)\n",
    "\n",
    "clusters = km.fit_predict(sales_kmeans)"
   ]
  },
  {
   "cell_type": "code",
   "execution_count": null,
   "id": "fde2a9ba",
   "metadata": {},
   "outputs": [],
   "source": [
    "from sklearn.metrics import silhouette_score\n",
    "\n",
    "score = silhouette_score(sales_kmeans, km.labels_, metric='euclidean')\n",
    "\n",
    "print('Silhouetter Score: %.3f' % score)"
   ]
  },
  {
   "cell_type": "code",
   "execution_count": null,
   "id": "e293fb09",
   "metadata": {},
   "outputs": [],
   "source": []
  }
 ],
 "metadata": {
  "kernelspec": {
   "display_name": "Python 3",
   "language": "python",
   "name": "python3"
  },
  "language_info": {
   "codemirror_mode": {
    "name": "ipython",
    "version": 3
   },
   "file_extension": ".py",
   "mimetype": "text/x-python",
   "name": "python",
   "nbconvert_exporter": "python",
   "pygments_lexer": "ipython3",
   "version": "3.8.8"
  }
 },
 "nbformat": 4,
 "nbformat_minor": 5
}
